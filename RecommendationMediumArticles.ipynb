{
 "cells": [
  {
   "cell_type": "code",
   "execution_count": 2,
   "metadata": {},
   "outputs": [],
   "source": [
    "# !pip install \"modin[all]\"\n",
    "# os.environ[\"MODIN_ENGINE\"] = \"ray\"  # Modin will use Ray"
   ]
  },
  {
   "cell_type": "markdown",
   "metadata": {},
   "source": [
    "### imports and util functions"
   ]
  },
  {
   "cell_type": "code",
   "execution_count": 77,
   "metadata": {},
   "outputs": [],
   "source": [
    "# import modin.pandas as pd\n",
    "import pandas as pd\n",
    "from sentence_transformers import SentenceTransformer, CrossEncoder\n",
    "import chromadb\n",
    "\n",
    "model = SentenceTransformer(\"multi-qa-distilbert-cos-v1\")\n",
    "\n",
    "def generate_full_text(row):\n",
    "    title = \"\"\n",
    "    if row['title']:\n",
    "        title = str(row['title'])\n",
    "    return title + '\\n\\n' + row['text']\n",
    "\n",
    "def structured_metadata(query_metadata):\n",
    "    structured_metadata = {\n",
    "        \"tags\" : [],\n",
    "        \"titles\" : [],\n",
    "        \"urls\" : []\n",
    "    }\n",
    "\n",
    "    for metadata  in  query_metadata[0]:\n",
    "        structured_metadata['tags'].append(metadata['tags'])\n",
    "        structured_metadata['titles'].append(metadata['title'])\n",
    "        structured_metadata['urls'].append(metadata['url'])\n",
    "\n",
    "    return structured_metadata\n",
    "\n",
    "\n",
    "def build_result_multiple_queries(results):\n",
    "    final_result = {\n",
    "        \"ids\" : [[]],\n",
    "        \"distances\": [[]],\n",
    "        \"metadatas\": [[]]\n",
    "    }\n",
    "    for result in results:\n",
    "        final_result['ids'][0].append(result['ids'][0][0])\n",
    "        final_result['distances'][0].append(result['distances'][0][0])\n",
    "        final_result['metadatas'][0].append(result['metadatas'][0][0])\n",
    "\n",
    "    return final_result\n",
    "\n",
    "def build_df_retrieved_result(result_original_retrieve):\n",
    "    structured_metadata_dict = structured_metadata(result_original_retrieve['metadatas'])\n",
    "\n",
    "    df_result_original_retrieve = pd.DataFrame({\"ids\" : result_original_retrieve['ids'][0],\n",
    "                                            \"distances\": result_original_retrieve['distances'][0],\n",
    "                                            \"tags\": structured_metadata_dict['tags'],\n",
    "                                            \"titles\": structured_metadata_dict['titles'],\n",
    "                                            \"urls\": structured_metadata_dict[\"urls\"]\n",
    "                                            })\n",
    "    \n",
    "    return df_result_original_retrieve\n"
   ]
  },
  {
   "cell_type": "code",
   "execution_count": 7,
   "metadata": {},
   "outputs": [
    {
     "data": {
      "text/html": [
       "<div>\n",
       "<style scoped>\n",
       "    .dataframe tbody tr th:only-of-type {\n",
       "        vertical-align: middle;\n",
       "    }\n",
       "\n",
       "    .dataframe tbody tr th {\n",
       "        vertical-align: top;\n",
       "    }\n",
       "\n",
       "    .dataframe thead th {\n",
       "        text-align: right;\n",
       "    }\n",
       "</style>\n",
       "<table border=\"1\" class=\"dataframe\">\n",
       "  <thead>\n",
       "    <tr style=\"text-align: right;\">\n",
       "      <th></th>\n",
       "      <th>title</th>\n",
       "      <th>text</th>\n",
       "      <th>url</th>\n",
       "      <th>authors</th>\n",
       "      <th>timestamp</th>\n",
       "      <th>tags</th>\n",
       "    </tr>\n",
       "  </thead>\n",
       "  <tbody>\n",
       "  </tbody>\n",
       "</table>\n",
       "</div>"
      ],
      "text/plain": [
       "Empty DataFrame\n",
       "Columns: [title, text, url, authors, timestamp, tags]\n",
       "Index: []"
      ]
     },
     "execution_count": 7,
     "metadata": {},
     "output_type": "execute_result"
    }
   ],
   "source": [
    "df_articles = pd.read_csv('medium_articles.csv')\n",
    "df_articles.loc[df_articles['text'].isnull()]"
   ]
  },
  {
   "cell_type": "code",
   "execution_count": 13,
   "metadata": {},
   "outputs": [],
   "source": [
    "# replace all nan values with None in dataframe\n",
    "df_articles = df_articles.where(pd.notnull(df_articles), None)"
   ]
  },
  {
   "cell_type": "code",
   "execution_count": 14,
   "metadata": {},
   "outputs": [
    {
     "data": {
      "text/html": [
       "<div>\n",
       "<style scoped>\n",
       "    .dataframe tbody tr th:only-of-type {\n",
       "        vertical-align: middle;\n",
       "    }\n",
       "\n",
       "    .dataframe tbody tr th {\n",
       "        vertical-align: top;\n",
       "    }\n",
       "\n",
       "    .dataframe thead th {\n",
       "        text-align: right;\n",
       "    }\n",
       "</style>\n",
       "<table border=\"1\" class=\"dataframe\">\n",
       "  <thead>\n",
       "    <tr style=\"text-align: right;\">\n",
       "      <th></th>\n",
       "      <th>title</th>\n",
       "      <th>text</th>\n",
       "      <th>url</th>\n",
       "      <th>authors</th>\n",
       "      <th>timestamp</th>\n",
       "      <th>tags</th>\n",
       "    </tr>\n",
       "  </thead>\n",
       "  <tbody>\n",
       "    <tr>\n",
       "      <th>0</th>\n",
       "      <td>Mental Note Vol. 24</td>\n",
       "      <td>Photo by Josh Riemer on Unsplash\\n\\nMerry Chri...</td>\n",
       "      <td>https://medium.com/invisible-illness/mental-no...</td>\n",
       "      <td>['Ryan Fan']</td>\n",
       "      <td>2020-12-26 03:38:10.479000+00:00</td>\n",
       "      <td>['Mental Health', 'Health', 'Psychology', 'Sci...</td>\n",
       "    </tr>\n",
       "    <tr>\n",
       "      <th>1</th>\n",
       "      <td>Your Brain On Coronavirus</td>\n",
       "      <td>Your Brain On Coronavirus\\n\\nA guide to the cu...</td>\n",
       "      <td>https://medium.com/age-of-awareness/how-the-pa...</td>\n",
       "      <td>['Simon Spichak']</td>\n",
       "      <td>2020-09-23 22:10:17.126000+00:00</td>\n",
       "      <td>['Mental Health', 'Coronavirus', 'Science', 'P...</td>\n",
       "    </tr>\n",
       "  </tbody>\n",
       "</table>\n",
       "</div>"
      ],
      "text/plain": [
       "                       title  \\\n",
       "0        Mental Note Vol. 24   \n",
       "1  Your Brain On Coronavirus   \n",
       "\n",
       "                                                text  \\\n",
       "0  Photo by Josh Riemer on Unsplash\\n\\nMerry Chri...   \n",
       "1  Your Brain On Coronavirus\\n\\nA guide to the cu...   \n",
       "\n",
       "                                                 url            authors  \\\n",
       "0  https://medium.com/invisible-illness/mental-no...       ['Ryan Fan']   \n",
       "1  https://medium.com/age-of-awareness/how-the-pa...  ['Simon Spichak']   \n",
       "\n",
       "                          timestamp  \\\n",
       "0  2020-12-26 03:38:10.479000+00:00   \n",
       "1  2020-09-23 22:10:17.126000+00:00   \n",
       "\n",
       "                                                tags  \n",
       "0  ['Mental Health', 'Health', 'Psychology', 'Sci...  \n",
       "1  ['Mental Health', 'Coronavirus', 'Science', 'P...  "
      ]
     },
     "execution_count": 14,
     "metadata": {},
     "output_type": "execute_result"
    }
   ],
   "source": [
    "df_articles.head(2)"
   ]
  },
  {
   "cell_type": "code",
   "execution_count": 6,
   "metadata": {},
   "outputs": [],
   "source": [
    "df_articles = df_articles.sample(100000)\n",
    "df_articles.reset_index(drop=True, inplace=True)"
   ]
  },
  {
   "cell_type": "code",
   "execution_count": 7,
   "metadata": {},
   "outputs": [],
   "source": [
    "df_articles['full_text'] = df_articles.apply(generate_full_text, axis=1)\n",
    "all_articles = df_articles['full_text'].tolist()"
   ]
  },
  {
   "cell_type": "code",
   "execution_count": 8,
   "metadata": {},
   "outputs": [
    {
     "name": "stderr",
     "output_type": "stream",
     "text": [
      "Batches: 100%|██████████| 3125/3125 [3:11:09<00:00,  3.67s/it]  \n"
     ]
    }
   ],
   "source": [
    "all_articles_embeddings = model.encode(all_articles, device='cuda', show_progress_bar=True)"
   ]
  },
  {
   "cell_type": "code",
   "execution_count": 9,
   "metadata": {},
   "outputs": [],
   "source": [
    "df_articles['sentence_embeddings'] = all_articles_embeddings.tolist()"
   ]
  },
  {
   "cell_type": "code",
   "execution_count": 10,
   "metadata": {},
   "outputs": [],
   "source": [
    "del all_articles_embeddings, all_articles"
   ]
  },
  {
   "cell_type": "code",
   "execution_count": 11,
   "metadata": {},
   "outputs": [],
   "source": [
    "df_articles.drop(['text', 'timestamp', 'authors'], axis=1, inplace=True)"
   ]
  },
  {
   "cell_type": "code",
   "execution_count": 12,
   "metadata": {},
   "outputs": [],
   "source": [
    "df_articles.to_parquet('./df_embeddings.parquet')"
   ]
  },
  {
   "cell_type": "code",
   "execution_count": 13,
   "metadata": {},
   "outputs": [
    {
     "data": {
      "text/html": [
       "<div>\n",
       "<style scoped>\n",
       "    .dataframe tbody tr th:only-of-type {\n",
       "        vertical-align: middle;\n",
       "    }\n",
       "\n",
       "    .dataframe tbody tr th {\n",
       "        vertical-align: top;\n",
       "    }\n",
       "\n",
       "    .dataframe thead th {\n",
       "        text-align: right;\n",
       "    }\n",
       "</style>\n",
       "<table border=\"1\" class=\"dataframe\">\n",
       "  <thead>\n",
       "    <tr style=\"text-align: right;\">\n",
       "      <th></th>\n",
       "      <th>title</th>\n",
       "      <th>url</th>\n",
       "      <th>tags</th>\n",
       "      <th>full_text</th>\n",
       "      <th>sentence_embeddings</th>\n",
       "    </tr>\n",
       "  </thead>\n",
       "  <tbody>\n",
       "    <tr>\n",
       "      <th>0</th>\n",
       "      <td>Warming your lambda functions using the AWS CDK</td>\n",
       "      <td>https://medium.com/@louisjq/warming-your-lambd...</td>\n",
       "      <td>['AWS', 'AWS Lambda', 'Cdk']</td>\n",
       "      <td>Warming your lambda functions using the AWS CD...</td>\n",
       "      <td>[0.00647616246715188, 0.0004706464533228427, 0...</td>\n",
       "    </tr>\n",
       "    <tr>\n",
       "      <th>1</th>\n",
       "      <td>Meeting My Teenager Self</td>\n",
       "      <td>https://medium.com/@chembarathi/meeting-my-tee...</td>\n",
       "      <td>['Books And Authors', 'Personal Essay', 'Refle...</td>\n",
       "      <td>Meeting My Teenager Self\\n\\nSome days I start ...</td>\n",
       "      <td>[-0.00991743989288807, -0.029601380228996277, ...</td>\n",
       "    </tr>\n",
       "  </tbody>\n",
       "</table>\n",
       "</div>"
      ],
      "text/plain": [
       "                                             title  \\\n",
       "0  Warming your lambda functions using the AWS CDK   \n",
       "1                         Meeting My Teenager Self   \n",
       "\n",
       "                                                 url  \\\n",
       "0  https://medium.com/@louisjq/warming-your-lambd...   \n",
       "1  https://medium.com/@chembarathi/meeting-my-tee...   \n",
       "\n",
       "                                                tags  \\\n",
       "0                       ['AWS', 'AWS Lambda', 'Cdk']   \n",
       "1  ['Books And Authors', 'Personal Essay', 'Refle...   \n",
       "\n",
       "                                           full_text  \\\n",
       "0  Warming your lambda functions using the AWS CD...   \n",
       "1  Meeting My Teenager Self\\n\\nSome days I start ...   \n",
       "\n",
       "                                 sentence_embeddings  \n",
       "0  [0.00647616246715188, 0.0004706464533228427, 0...  \n",
       "1  [-0.00991743989288807, -0.029601380228996277, ...  "
      ]
     },
     "execution_count": 13,
     "metadata": {},
     "output_type": "execute_result"
    }
   ],
   "source": [
    "df_articles.head(2)"
   ]
  },
  {
   "cell_type": "markdown",
   "metadata": {},
   "source": [
    "### Configuring Chroma db"
   ]
  },
  {
   "cell_type": "code",
   "execution_count": 2,
   "metadata": {},
   "outputs": [
    {
     "data": {
      "text/plain": [
       "1707052498712584905"
      ]
     },
     "execution_count": 2,
     "metadata": {},
     "output_type": "execute_result"
    }
   ],
   "source": [
    "path_vector_db = './db/'\n",
    "\n",
    "client = chromadb.PersistentClient(path=path_vector_db)\n",
    "\n",
    "client.heartbeat()"
   ]
  },
  {
   "cell_type": "code",
   "execution_count": 3,
   "metadata": {},
   "outputs": [],
   "source": [
    "# create a collection, run this only once\n",
    "collection = client.create_collection(\n",
    "        name=\"medium_articles\",\n",
    "        metadata={\"hnsw:space\": \"cosine\"} \n",
    "    )"
   ]
  },
  {
   "cell_type": "code",
   "execution_count": 3,
   "metadata": {},
   "outputs": [],
   "source": [
    "# run this if you have already created the collection\n",
    "collection = client.get_collection(name=\"medium_articles\")"
   ]
  },
  {
   "cell_type": "code",
   "execution_count": 4,
   "metadata": {},
   "outputs": [],
   "source": [
    "df_articles = pd.read_parquet('./df_embeddings.parquet')"
   ]
  },
  {
   "cell_type": "code",
   "execution_count": 5,
   "metadata": {},
   "outputs": [
    {
     "data": {
      "text/html": [
       "<div>\n",
       "<style scoped>\n",
       "    .dataframe tbody tr th:only-of-type {\n",
       "        vertical-align: middle;\n",
       "    }\n",
       "\n",
       "    .dataframe tbody tr th {\n",
       "        vertical-align: top;\n",
       "    }\n",
       "\n",
       "    .dataframe thead th {\n",
       "        text-align: right;\n",
       "    }\n",
       "</style>\n",
       "<table border=\"1\" class=\"dataframe\">\n",
       "  <thead>\n",
       "    <tr style=\"text-align: right;\">\n",
       "      <th></th>\n",
       "      <th>title</th>\n",
       "      <th>url</th>\n",
       "      <th>tags</th>\n",
       "      <th>full_text</th>\n",
       "      <th>sentence_embeddings</th>\n",
       "    </tr>\n",
       "  </thead>\n",
       "  <tbody>\n",
       "    <tr>\n",
       "      <th>0</th>\n",
       "      <td>Warming your lambda functions using the AWS CDK</td>\n",
       "      <td>https://medium.com/@louisjq/warming-your-lambd...</td>\n",
       "      <td>['AWS', 'AWS Lambda', 'Cdk']</td>\n",
       "      <td>Warming your lambda functions using the AWS CD...</td>\n",
       "      <td>[0.00647616246715188, 0.0004706464533228427, 0...</td>\n",
       "    </tr>\n",
       "    <tr>\n",
       "      <th>1</th>\n",
       "      <td>Meeting My Teenager Self</td>\n",
       "      <td>https://medium.com/@chembarathi/meeting-my-tee...</td>\n",
       "      <td>['Books And Authors', 'Personal Essay', 'Refle...</td>\n",
       "      <td>Meeting My Teenager Self\\n\\nSome days I start ...</td>\n",
       "      <td>[-0.00991743989288807, -0.029601380228996277, ...</td>\n",
       "    </tr>\n",
       "    <tr>\n",
       "      <th>2</th>\n",
       "      <td>I Give You A Name (&amp; this is my blessing)</td>\n",
       "      <td>https://medium.com/@ashrowan/i-give-you-a-name...</td>\n",
       "      <td>['Faithfullylgbt', 'Nonbinary', 'Latter Day Sa...</td>\n",
       "      <td>I Give You A Name (&amp; this is my blessing)\\n\\nL...</td>\n",
       "      <td>[0.06086372956633568, -0.0077235340140759945, ...</td>\n",
       "    </tr>\n",
       "  </tbody>\n",
       "</table>\n",
       "</div>"
      ],
      "text/plain": [
       "                                             title  \\\n",
       "0  Warming your lambda functions using the AWS CDK   \n",
       "1                         Meeting My Teenager Self   \n",
       "2        I Give You A Name (& this is my blessing)   \n",
       "\n",
       "                                                 url  \\\n",
       "0  https://medium.com/@louisjq/warming-your-lambd...   \n",
       "1  https://medium.com/@chembarathi/meeting-my-tee...   \n",
       "2  https://medium.com/@ashrowan/i-give-you-a-name...   \n",
       "\n",
       "                                                tags  \\\n",
       "0                       ['AWS', 'AWS Lambda', 'Cdk']   \n",
       "1  ['Books And Authors', 'Personal Essay', 'Refle...   \n",
       "2  ['Faithfullylgbt', 'Nonbinary', 'Latter Day Sa...   \n",
       "\n",
       "                                           full_text  \\\n",
       "0  Warming your lambda functions using the AWS CD...   \n",
       "1  Meeting My Teenager Self\\n\\nSome days I start ...   \n",
       "2  I Give You A Name (& this is my blessing)\\n\\nL...   \n",
       "\n",
       "                                 sentence_embeddings  \n",
       "0  [0.00647616246715188, 0.0004706464533228427, 0...  \n",
       "1  [-0.00991743989288807, -0.029601380228996277, ...  \n",
       "2  [0.06086372956633568, -0.0077235340140759945, ...  "
      ]
     },
     "execution_count": 5,
     "metadata": {},
     "output_type": "execute_result"
    }
   ],
   "source": [
    "df_articles.head(3)"
   ]
  },
  {
   "cell_type": "code",
   "execution_count": 7,
   "metadata": {},
   "outputs": [],
   "source": [
    "df_articles['sentence_embeddings'] = df_articles['sentence_embeddings'].apply(lambda x: x.tolist())\n",
    "all_articles_embeddings = df_articles['sentence_embeddings'].tolist()\n"
   ]
  },
  {
   "cell_type": "code",
   "execution_count": 15,
   "metadata": {},
   "outputs": [
    {
     "data": {
      "text/html": [
       "<div>\n",
       "<style scoped>\n",
       "    .dataframe tbody tr th:only-of-type {\n",
       "        vertical-align: middle;\n",
       "    }\n",
       "\n",
       "    .dataframe tbody tr th {\n",
       "        vertical-align: top;\n",
       "    }\n",
       "\n",
       "    .dataframe thead th {\n",
       "        text-align: right;\n",
       "    }\n",
       "</style>\n",
       "<table border=\"1\" class=\"dataframe\">\n",
       "  <thead>\n",
       "    <tr style=\"text-align: right;\">\n",
       "      <th></th>\n",
       "      <th>title</th>\n",
       "      <th>url</th>\n",
       "      <th>tags</th>\n",
       "      <th>full_text</th>\n",
       "      <th>sentence_embeddings</th>\n",
       "      <th>id</th>\n",
       "    </tr>\n",
       "  </thead>\n",
       "  <tbody>\n",
       "    <tr>\n",
       "      <th>21769</th>\n",
       "      <td>None</td>\n",
       "      <td>https://medium.com/chris-dialogue/%E0%B8%84%E0...</td>\n",
       "      <td>['Politics', 'Life']</td>\n",
       "      <td>\\n\\nI am a product builder who specializes in ...</td>\n",
       "      <td>[0.10476582497358322, 0.030461367219686508, 0....</td>\n",
       "      <td>21769</td>\n",
       "    </tr>\n",
       "    <tr>\n",
       "      <th>34781</th>\n",
       "      <td>None</td>\n",
       "      <td>https://medium.com/chris-dialogue/%E0%B9%84%E0...</td>\n",
       "      <td>['Life']</td>\n",
       "      <td>\\n\\nI am a product builder who specializes in ...</td>\n",
       "      <td>[0.10476582497358322, 0.030461367219686508, 0....</td>\n",
       "      <td>34781</td>\n",
       "    </tr>\n",
       "  </tbody>\n",
       "</table>\n",
       "</div>"
      ],
      "text/plain": [
       "      title                                                url  \\\n",
       "21769  None  https://medium.com/chris-dialogue/%E0%B8%84%E0...   \n",
       "34781  None  https://medium.com/chris-dialogue/%E0%B9%84%E0...   \n",
       "\n",
       "                       tags  \\\n",
       "21769  ['Politics', 'Life']   \n",
       "34781              ['Life']   \n",
       "\n",
       "                                               full_text  \\\n",
       "21769  \\n\\nI am a product builder who specializes in ...   \n",
       "34781  \\n\\nI am a product builder who specializes in ...   \n",
       "\n",
       "                                     sentence_embeddings     id  \n",
       "21769  [0.10476582497358322, 0.030461367219686508, 0....  21769  \n",
       "34781  [0.10476582497358322, 0.030461367219686508, 0....  34781  "
      ]
     },
     "execution_count": 15,
     "metadata": {},
     "output_type": "execute_result"
    }
   ],
   "source": [
    "df_articles.loc[df_articles[['title', 'tags', 'url']].isnull().any(axis=1)]"
   ]
  },
  {
   "cell_type": "code",
   "execution_count": 16,
   "metadata": {},
   "outputs": [],
   "source": [
    "df_articles.loc[df_articles['title'].isnull(), 'title'] = ''"
   ]
  },
  {
   "cell_type": "code",
   "execution_count": 17,
   "metadata": {},
   "outputs": [],
   "source": [
    "all_articles_metadata = df_articles[['title', 'tags', 'url']].to_dict(orient='records')"
   ]
  },
  {
   "cell_type": "code",
   "execution_count": 13,
   "metadata": {},
   "outputs": [],
   "source": [
    "# create a id column\n",
    "df_articles['id'] = df_articles.index\n",
    "df_articles['id'] = df_articles['id'].astype(str)"
   ]
  },
  {
   "cell_type": "code",
   "execution_count": 19,
   "metadata": {},
   "outputs": [],
   "source": [
    "from tqdm import tqdm\n",
    "\n",
    "batch_size = 100\n",
    "\n",
    "total_iterations = len(df_articles) // batch_size + (len(df_articles) % batch_size > 0)"
   ]
  },
  {
   "cell_type": "code",
   "execution_count": null,
   "metadata": {},
   "outputs": [],
   "source": [
    "# Crie uma barra de progresso\n",
    "for i in tqdm(range(0, len(df_articles), batch_size), total=total_iterations, desc=\"Adding to collection\"):\n",
    "    batch_embeddings = df_articles['sentence_embeddings'].iloc[i:i + batch_size].tolist()\n",
    "    batch_metadatas = all_articles_metadata[i:i + batch_size]\n",
    "    batch_ids = df_articles['id'].iloc[i:i + batch_size].tolist()\n",
    "\n",
    "    collection.add(embeddings=batch_embeddings, metadatas=batch_metadatas, ids=batch_ids)"
   ]
  },
  {
   "cell_type": "code",
   "execution_count": 6,
   "metadata": {},
   "outputs": [
    {
     "data": {
      "text/plain": [
       "100000"
      ]
     },
     "execution_count": 6,
     "metadata": {},
     "output_type": "execute_result"
    }
   ],
   "source": [
    "collection.count()"
   ]
  },
  {
   "cell_type": "code",
   "execution_count": 34,
   "metadata": {},
   "outputs": [
    {
     "data": {
      "text/plain": [
       "{'ids': ['3'],\n",
       " 'embeddings': None,\n",
       " 'metadatas': [{'tags': \"['Empathy', 'Shakti Shetty', 'Random Musings']\",\n",
       "   'title': 'An act of fruition',\n",
       "   'url': 'https://medium.com/shaktianspace/an-act-of-fruition-fffc0550e1a0'}],\n",
       " 'documents': [None],\n",
       " 'uris': None,\n",
       " 'data': None}"
      ]
     },
     "execution_count": 34,
     "metadata": {},
     "output_type": "execute_result"
    }
   ],
   "source": [
    "### query with filter\n",
    "\n",
    "collection.get(\n",
    "    ids=[\"1\", \"2\", \"3\", \"4\", \"5\"],\t\n",
    "    where={'title': {'$in': ['An act of fruition']}}\n",
    ")"
   ]
  },
  {
   "cell_type": "markdown",
   "metadata": {},
   "source": [
    "#### Implementing RAG methods"
   ]
  },
  {
   "cell_type": "code",
   "execution_count": 37,
   "metadata": {},
   "outputs": [
    {
     "data": {
      "application/vnd.jupyter.widget-view+json": {
       "model_id": "a566f01ac2db4d0182fbbc5dcbcf09b4",
       "version_major": 2,
       "version_minor": 0
      },
      "text/plain": [
       "Batches:   0%|          | 0/1 [00:00<?, ?it/s]"
      ]
     },
     "metadata": {},
     "output_type": "display_data"
    }
   ],
   "source": [
    "# query based on search\n",
    "query = \"How to use python to create a web application\"\n",
    "\n",
    "query_embedding = model.encode(query, device='cuda', show_progress_bar=True)"
   ]
  },
  {
   "cell_type": "code",
   "execution_count": 38,
   "metadata": {},
   "outputs": [],
   "source": [
    "result_original_retrieve = collection.query(\n",
    "    query_embeddings=query_embedding.tolist(),\n",
    "    n_results=10,\n",
    ")"
   ]
  },
  {
   "cell_type": "code",
   "execution_count": 75,
   "metadata": {},
   "outputs": [],
   "source": [
    "df_result_original_retrieve = build_df_retrieved_result(result_original_retrieve)"
   ]
  },
  {
   "cell_type": "code",
   "execution_count": 78,
   "metadata": {},
   "outputs": [
    {
     "data": {
      "text/html": [
       "<div>\n",
       "<style scoped>\n",
       "    .dataframe tbody tr th:only-of-type {\n",
       "        vertical-align: middle;\n",
       "    }\n",
       "\n",
       "    .dataframe tbody tr th {\n",
       "        vertical-align: top;\n",
       "    }\n",
       "\n",
       "    .dataframe thead th {\n",
       "        text-align: right;\n",
       "    }\n",
       "</style>\n",
       "<table border=\"1\" class=\"dataframe\">\n",
       "  <thead>\n",
       "    <tr style=\"text-align: right;\">\n",
       "      <th></th>\n",
       "      <th>ids</th>\n",
       "      <th>distances</th>\n",
       "      <th>tags</th>\n",
       "      <th>titles</th>\n",
       "      <th>urls</th>\n",
       "    </tr>\n",
       "  </thead>\n",
       "  <tbody>\n",
       "    <tr>\n",
       "      <th>0</th>\n",
       "      <td>86007</td>\n",
       "      <td>0.268111</td>\n",
       "      <td>['Flask', 'Python', 'HTML']</td>\n",
       "      <td>Web Hosting using Python</td>\n",
       "      <td>https://medium.com/datadriveninvestor/web-host...</td>\n",
       "    </tr>\n",
       "    <tr>\n",
       "      <th>1</th>\n",
       "      <td>65351</td>\n",
       "      <td>0.278562</td>\n",
       "      <td>['Python Project Ideas', 'Python Website', 'Py...</td>\n",
       "      <td>how to create a website in seven lines of pyth...</td>\n",
       "      <td>https://medium.com/@jyothiradityak/how-to-crea...</td>\n",
       "    </tr>\n",
       "    <tr>\n",
       "      <th>2</th>\n",
       "      <td>8240</td>\n",
       "      <td>0.337513</td>\n",
       "      <td>['Software', 'Python', 'Web Development', 'Dja...</td>\n",
       "      <td>Basic application with Django</td>\n",
       "      <td>https://medium.com/datadriveninvestor/basic-ap...</td>\n",
       "    </tr>\n",
       "    <tr>\n",
       "      <th>3</th>\n",
       "      <td>64395</td>\n",
       "      <td>0.349885</td>\n",
       "      <td>['Programming', 'Coding', 'Python', 'Django', ...</td>\n",
       "      <td>Web Development in Python: Lesson 1</td>\n",
       "      <td>https://medium.com/python-in-plain-english/web...</td>\n",
       "    </tr>\n",
       "    <tr>\n",
       "      <th>4</th>\n",
       "      <td>62018</td>\n",
       "      <td>0.353386</td>\n",
       "      <td>['Data Science', 'Python', 'Programming', 'Web...</td>\n",
       "      <td>What exactly can you do with Python? Here are ...</td>\n",
       "      <td>https://towardsdatascience.com/what-can-you-do...</td>\n",
       "    </tr>\n",
       "    <tr>\n",
       "      <th>5</th>\n",
       "      <td>38143</td>\n",
       "      <td>0.367358</td>\n",
       "      <td>['Python Programming', 'Flask Framework', 'Pyt...</td>\n",
       "      <td>Flask Tutorial Python — Basics of The Flask Fr...</td>\n",
       "      <td>https://medium.com/@p4p3rb0y1/flask-tutorial-p...</td>\n",
       "    </tr>\n",
       "    <tr>\n",
       "      <th>6</th>\n",
       "      <td>53842</td>\n",
       "      <td>0.376031</td>\n",
       "      <td>['Website', 'Pyth', 'Python Framework', 'Flask']</td>\n",
       "      <td>Your First website with Flask</td>\n",
       "      <td>https://medium.com/@nitis3211/your-first-websi...</td>\n",
       "    </tr>\n",
       "    <tr>\n",
       "      <th>7</th>\n",
       "      <td>21827</td>\n",
       "      <td>0.380803</td>\n",
       "      <td>['Web Development', 'Flask Framework', 'Gettin...</td>\n",
       "      <td>Getting Started With Flask — Python Framework</td>\n",
       "      <td>https://medium.com/@1303karthick/getting-start...</td>\n",
       "    </tr>\n",
       "    <tr>\n",
       "      <th>8</th>\n",
       "      <td>66840</td>\n",
       "      <td>0.384633</td>\n",
       "      <td>['Python', 'Programming', 'Python3', 'Software...</td>\n",
       "      <td>How to Create a Simple Django Web App With Pyt...</td>\n",
       "      <td>https://medium.com/better-programming/how-to-c...</td>\n",
       "    </tr>\n",
       "    <tr>\n",
       "      <th>9</th>\n",
       "      <td>98111</td>\n",
       "      <td>0.384633</td>\n",
       "      <td>['Programming', 'Django', 'Python3', 'Python',...</td>\n",
       "      <td>How to Create a Simple Django Web App With Pyt...</td>\n",
       "      <td>https://betterprogramming.pub/how-to-create-a-...</td>\n",
       "    </tr>\n",
       "  </tbody>\n",
       "</table>\n",
       "</div>"
      ],
      "text/plain": [
       "     ids  distances                                               tags  \\\n",
       "0  86007   0.268111                        ['Flask', 'Python', 'HTML']   \n",
       "1  65351   0.278562  ['Python Project Ideas', 'Python Website', 'Py...   \n",
       "2   8240   0.337513  ['Software', 'Python', 'Web Development', 'Dja...   \n",
       "3  64395   0.349885  ['Programming', 'Coding', 'Python', 'Django', ...   \n",
       "4  62018   0.353386  ['Data Science', 'Python', 'Programming', 'Web...   \n",
       "5  38143   0.367358  ['Python Programming', 'Flask Framework', 'Pyt...   \n",
       "6  53842   0.376031   ['Website', 'Pyth', 'Python Framework', 'Flask']   \n",
       "7  21827   0.380803  ['Web Development', 'Flask Framework', 'Gettin...   \n",
       "8  66840   0.384633  ['Python', 'Programming', 'Python3', 'Software...   \n",
       "9  98111   0.384633  ['Programming', 'Django', 'Python3', 'Python',...   \n",
       "\n",
       "                                              titles  \\\n",
       "0                           Web Hosting using Python   \n",
       "1  how to create a website in seven lines of pyth...   \n",
       "2                      Basic application with Django   \n",
       "3                Web Development in Python: Lesson 1   \n",
       "4  What exactly can you do with Python? Here are ...   \n",
       "5  Flask Tutorial Python — Basics of The Flask Fr...   \n",
       "6                      Your First website with Flask   \n",
       "7      Getting Started With Flask — Python Framework   \n",
       "8  How to Create a Simple Django Web App With Pyt...   \n",
       "9  How to Create a Simple Django Web App With Pyt...   \n",
       "\n",
       "                                                urls  \n",
       "0  https://medium.com/datadriveninvestor/web-host...  \n",
       "1  https://medium.com/@jyothiradityak/how-to-crea...  \n",
       "2  https://medium.com/datadriveninvestor/basic-ap...  \n",
       "3  https://medium.com/python-in-plain-english/web...  \n",
       "4  https://towardsdatascience.com/what-can-you-do...  \n",
       "5  https://medium.com/@p4p3rb0y1/flask-tutorial-p...  \n",
       "6  https://medium.com/@nitis3211/your-first-websi...  \n",
       "7  https://medium.com/@1303karthick/getting-start...  \n",
       "8  https://medium.com/better-programming/how-to-c...  \n",
       "9  https://betterprogramming.pub/how-to-create-a-...  "
      ]
     },
     "execution_count": 78,
     "metadata": {},
     "output_type": "execute_result"
    }
   ],
   "source": [
    "df_result_original_retrieve"
   ]
  },
  {
   "cell_type": "markdown",
   "metadata": {},
   "source": [
    "### Query Expansion"
   ]
  },
  {
   "cell_type": "code",
   "execution_count": 56,
   "metadata": {},
   "outputs": [],
   "source": [
    "# !pip install --upgrade openai"
   ]
  },
  {
   "cell_type": "code",
   "execution_count": 79,
   "metadata": {},
   "outputs": [],
   "source": [
    "from openai import OpenAI\n",
    "\n",
    "client = OpenAI(\n",
    "  api_key=\"\",\n",
    ")"
   ]
  },
  {
   "cell_type": "code",
   "execution_count": 80,
   "metadata": {},
   "outputs": [],
   "source": [
    "# Function to create related queries\n",
    "def generate_related_queries(custom_prompt, query, model=\"gpt-3.5-turbo\"):\n",
    "    messages = [\n",
    "        {\n",
    "            \"role\": \"system\",\n",
    "            \"content\": f\"{custom_prompt}\"\n",
    "        },\n",
    "        {\"role\": \"user\", \"content\": query}\n",
    "    ]\n",
    "\n",
    "    original_content = client.chat.completions.create(\n",
    "            model = model,\n",
    "            messages = messages\n",
    "            )\n",
    "    \n",
    "    content = original_content.choices[0].message.content\n",
    "    content = content.split(\"\\n\")\n",
    "    return content, original_content"
   ]
  },
  {
   "cell_type": "code",
   "execution_count": 81,
   "metadata": {},
   "outputs": [],
   "source": [
    "query = \"How to use python to create a web application\""
   ]
  },
  {
   "cell_type": "code",
   "execution_count": 82,
   "metadata": {},
   "outputs": [],
   "source": [
    "### testing with related topics\n",
    "\n",
    "custom_prompt_related_topics = \"\"\" You are a helpful assistant that helps people to find good articles.\n",
    "                    Your users are trying to find good articles about certain area. \n",
    "                    Suggest up to five additional related search texts to help them find the article they need\n",
    "                    Suggest only short search texts without compound sentences. Suggest a variety of texts that cover different aspects of the topic.\n",
    "                    Make sure they are complete search texts, and that they are related to the original text.\n",
    "                    Output one text per line. Do not number or describe the texts.\"\"\"\n",
    "\n",
    "related_queries, original_content = generate_related_queries(custom_prompt_related_topics, query)"
   ]
  },
  {
   "cell_type": "code",
   "execution_count": 83,
   "metadata": {},
   "outputs": [
    {
     "data": {
      "text/plain": [
       "['Python web application development tutorial',\n",
       " 'Best practices for Python web development',\n",
       " 'Introduction to Flask: A Python web framework',\n",
       " 'Django vs Flask: Choosing the right Python web framework',\n",
       " 'Python web application deployment guide']"
      ]
     },
     "execution_count": 83,
     "metadata": {},
     "output_type": "execute_result"
    }
   ],
   "source": [
    "related_queries"
   ]
  },
  {
   "cell_type": "code",
   "execution_count": null,
   "metadata": {},
   "outputs": [],
   "source": [
    "results = []\n",
    "\n",
    "for query in related_queries:\n",
    "    query_embedding = model.encode(query, device='cuda', show_progress_bar=True)\n",
    "    \n",
    "    result_query = collection.query(\n",
    "        query_embeddings=query_embedding.tolist(),\n",
    "        n_results=5,\n",
    "    )\n",
    "    \n",
    "    results.append(result_query)"
   ]
  },
  {
   "cell_type": "code",
   "execution_count": 73,
   "metadata": {},
   "outputs": [],
   "source": [
    "### all results\n",
    "\n",
    "# for result in results:\n",
    "#     for metadata in result['metadatas'][0]:\n",
    "#         print(f\"title: {metadata['title']} || tags: {metadata['tags']}\")"
   ]
  },
  {
   "cell_type": "code",
   "execution_count": 115,
   "metadata": {},
   "outputs": [],
   "source": [
    "final_result_query_expansion = build_result_multiple_queries(results)"
   ]
  },
  {
   "cell_type": "code",
   "execution_count": 117,
   "metadata": {},
   "outputs": [
    {
     "data": {
      "text/plain": [
       "{'ids': [['38143', '64395', '38143', '76575', '64395']],\n",
       " 'distances': [[0.3045845627784729,\n",
       "   0.36013704538345337,\n",
       "   0.1690163016319275,\n",
       "   0.20691239833831787,\n",
       "   0.3864551782608032]],\n",
       " 'metadatas': [[{'tags': \"['Python Programming', 'Flask Framework', 'Python3', 'Flask', 'Python']\",\n",
       "    'title': 'Flask Tutorial Python — Basics of The Flask Framework',\n",
       "    'url': 'https://medium.com/@p4p3rb0y1/flask-tutorial-python-basics-of-the-flask-framework-8a6c6fc55c0d'},\n",
       "   {'tags': \"['Programming', 'Coding', 'Python', 'Django', 'Web Development']\",\n",
       "    'title': 'Web Development in Python: Lesson 1',\n",
       "    'url': 'https://medium.com/python-in-plain-english/web-development-in-python-lesson-1-d87ef3e439fc'},\n",
       "   {'tags': \"['Python Programming', 'Flask Framework', 'Python3', 'Flask', 'Python']\",\n",
       "    'title': 'Flask Tutorial Python — Basics of The Flask Framework',\n",
       "    'url': 'https://medium.com/@p4p3rb0y1/flask-tutorial-python-basics-of-the-flask-framework-8a6c6fc55c0d'},\n",
       "   {'tags': \"['Software Development', 'Programming', 'Python', 'Data Science', 'Web Development']\",\n",
       "    'title': 'What Are The Best & Popular Python Frameworks',\n",
       "    'url': 'https://medium.com/python-in-plain-english/what-are-the-best-popular-python-freamworks-4379f4a6e37c'},\n",
       "   {'tags': \"['Programming', 'Coding', 'Python', 'Django', 'Web Development']\",\n",
       "    'title': 'Web Development in Python: Lesson 1',\n",
       "    'url': 'https://medium.com/python-in-plain-english/web-development-in-python-lesson-1-d87ef3e439fc'}]]}"
      ]
     },
     "execution_count": 117,
     "metadata": {},
     "output_type": "execute_result"
    }
   ],
   "source": [
    "final_result_query_expansion"
   ]
  },
  {
   "cell_type": "code",
   "execution_count": 120,
   "metadata": {},
   "outputs": [],
   "source": [
    "df_query_expansion_related_topics_result = build_df_retrieved_result(final_result_query_expansion)"
   ]
  },
  {
   "cell_type": "code",
   "execution_count": 121,
   "metadata": {},
   "outputs": [
    {
     "data": {
      "text/html": [
       "<div>\n",
       "<style scoped>\n",
       "    .dataframe tbody tr th:only-of-type {\n",
       "        vertical-align: middle;\n",
       "    }\n",
       "\n",
       "    .dataframe tbody tr th {\n",
       "        vertical-align: top;\n",
       "    }\n",
       "\n",
       "    .dataframe thead th {\n",
       "        text-align: right;\n",
       "    }\n",
       "</style>\n",
       "<table border=\"1\" class=\"dataframe\">\n",
       "  <thead>\n",
       "    <tr style=\"text-align: right;\">\n",
       "      <th></th>\n",
       "      <th>ids</th>\n",
       "      <th>distances</th>\n",
       "      <th>tags</th>\n",
       "      <th>titles</th>\n",
       "      <th>urls</th>\n",
       "    </tr>\n",
       "  </thead>\n",
       "  <tbody>\n",
       "    <tr>\n",
       "      <th>0</th>\n",
       "      <td>38143</td>\n",
       "      <td>0.304585</td>\n",
       "      <td>['Python Programming', 'Flask Framework', 'Pyt...</td>\n",
       "      <td>Flask Tutorial Python — Basics of The Flask Fr...</td>\n",
       "      <td>https://medium.com/@p4p3rb0y1/flask-tutorial-p...</td>\n",
       "    </tr>\n",
       "    <tr>\n",
       "      <th>1</th>\n",
       "      <td>64395</td>\n",
       "      <td>0.360137</td>\n",
       "      <td>['Programming', 'Coding', 'Python', 'Django', ...</td>\n",
       "      <td>Web Development in Python: Lesson 1</td>\n",
       "      <td>https://medium.com/python-in-plain-english/web...</td>\n",
       "    </tr>\n",
       "    <tr>\n",
       "      <th>2</th>\n",
       "      <td>38143</td>\n",
       "      <td>0.169016</td>\n",
       "      <td>['Python Programming', 'Flask Framework', 'Pyt...</td>\n",
       "      <td>Flask Tutorial Python — Basics of The Flask Fr...</td>\n",
       "      <td>https://medium.com/@p4p3rb0y1/flask-tutorial-p...</td>\n",
       "    </tr>\n",
       "    <tr>\n",
       "      <th>3</th>\n",
       "      <td>76575</td>\n",
       "      <td>0.206912</td>\n",
       "      <td>['Software Development', 'Programming', 'Pytho...</td>\n",
       "      <td>What Are The Best &amp; Popular Python Frameworks</td>\n",
       "      <td>https://medium.com/python-in-plain-english/wha...</td>\n",
       "    </tr>\n",
       "    <tr>\n",
       "      <th>4</th>\n",
       "      <td>64395</td>\n",
       "      <td>0.386455</td>\n",
       "      <td>['Programming', 'Coding', 'Python', 'Django', ...</td>\n",
       "      <td>Web Development in Python: Lesson 1</td>\n",
       "      <td>https://medium.com/python-in-plain-english/web...</td>\n",
       "    </tr>\n",
       "  </tbody>\n",
       "</table>\n",
       "</div>"
      ],
      "text/plain": [
       "     ids  distances                                               tags  \\\n",
       "0  38143   0.304585  ['Python Programming', 'Flask Framework', 'Pyt...   \n",
       "1  64395   0.360137  ['Programming', 'Coding', 'Python', 'Django', ...   \n",
       "2  38143   0.169016  ['Python Programming', 'Flask Framework', 'Pyt...   \n",
       "3  76575   0.206912  ['Software Development', 'Programming', 'Pytho...   \n",
       "4  64395   0.386455  ['Programming', 'Coding', 'Python', 'Django', ...   \n",
       "\n",
       "                                              titles  \\\n",
       "0  Flask Tutorial Python — Basics of The Flask Fr...   \n",
       "1                Web Development in Python: Lesson 1   \n",
       "2  Flask Tutorial Python — Basics of The Flask Fr...   \n",
       "3      What Are The Best & Popular Python Frameworks   \n",
       "4                Web Development in Python: Lesson 1   \n",
       "\n",
       "                                                urls  \n",
       "0  https://medium.com/@p4p3rb0y1/flask-tutorial-p...  \n",
       "1  https://medium.com/python-in-plain-english/web...  \n",
       "2  https://medium.com/@p4p3rb0y1/flask-tutorial-p...  \n",
       "3  https://medium.com/python-in-plain-english/wha...  \n",
       "4  https://medium.com/python-in-plain-english/web...  "
      ]
     },
     "execution_count": 121,
     "metadata": {},
     "output_type": "execute_result"
    }
   ],
   "source": [
    "df_query_expansion_related_topics_result"
   ]
  },
  {
   "cell_type": "code",
   "execution_count": 122,
   "metadata": {},
   "outputs": [],
   "source": [
    "### testing with key words related to query\n",
    "\n",
    "query = \"How to use python to create a web application\"\n",
    "\n",
    "custom_prompt_related_topics = \"\"\" You are a helpful assistant that helps people to find good articles.\n",
    "                    Your users are trying to find good articles about certain area. \n",
    "                    Suggest up to 10 related keywords  to the search topic to help them find the article they need.\n",
    "                    Suggest a variety of keywords that cover different aspects of the topic.\n",
    "                    Make sure they are complete search texts, and that they are related to the original text.\n",
    "                    The output MUST be one keyword per line. Do not number or describe the keywords.\"\"\"\n",
    "\n",
    "related_keywords, original_content = generate_related_queries(custom_prompt_related_topics, query)"
   ]
  },
  {
   "cell_type": "code",
   "execution_count": 123,
   "metadata": {},
   "outputs": [
    {
     "data": {
      "text/plain": [
       "['python web development',\n",
       " 'web application development with python',\n",
       " 'python web frameworks',\n",
       " 'python flask tutorial',\n",
       " 'django web development',\n",
       " 'python web server',\n",
       " 'python web development tutorial',\n",
       " 'python web application example',\n",
       " 'python web development libraries',\n",
       " 'python web application deployment']"
      ]
     },
     "execution_count": 123,
     "metadata": {},
     "output_type": "execute_result"
    }
   ],
   "source": [
    "related_keywords"
   ]
  },
  {
   "cell_type": "code",
   "execution_count": null,
   "metadata": {},
   "outputs": [],
   "source": [
    "results = []\n",
    "\n",
    "for keyword in related_keywords:\n",
    "    query_embedding = model.encode(keyword, device='cuda', show_progress_bar=True)\n",
    "    \n",
    "    result_query = collection.query(\n",
    "        query_embeddings=query_embedding.tolist(),\n",
    "        n_results=5,\n",
    "    )\n",
    "    \n",
    "    results.append(result_query)"
   ]
  },
  {
   "cell_type": "code",
   "execution_count": 69,
   "metadata": {},
   "outputs": [],
   "source": [
    "### all results\n",
    "\n",
    "# for result in results:\n",
    "#     for metadata in result['metadatas'][0]:\n",
    "#         print(f\"title: {metadata['title']} || tags: {metadata['tags']}\")"
   ]
  },
  {
   "cell_type": "code",
   "execution_count": 125,
   "metadata": {},
   "outputs": [
    {
     "name": "stdout",
     "output_type": "stream",
     "text": [
      "{'tags': \"['Flask', 'Python', 'HTML']\", 'title': 'Web Hosting using Python', 'url': 'https://medium.com/datadriveninvestor/web-hosting-using-python-3dbb00abdcba'}\n",
      "{'tags': \"['Flask', 'Python', 'HTML']\", 'title': 'Web Hosting using Python', 'url': 'https://medium.com/datadriveninvestor/web-hosting-using-python-3dbb00abdcba'}\n",
      "{'tags': \"['Software Development', 'Programming', 'Python', 'Data Science', 'Web Development']\", 'title': 'What Are The Best & Popular Python Frameworks', 'url': 'https://medium.com/python-in-plain-english/what-are-the-best-popular-python-freamworks-4379f4a6e37c'}\n",
      "{'tags': \"['Python Programming', 'Flask Framework', 'Python3', 'Flask', 'Python']\", 'title': 'Flask Tutorial Python — Basics of The Flask Framework', 'url': 'https://medium.com/@p4p3rb0y1/flask-tutorial-python-basics-of-the-flask-framework-8a6c6fc55c0d'}\n",
      "{'tags': \"['Portal', 'Web Development', 'Django Framework', 'Django', 'Python']\", 'title': 'A Basic Overview of Django, the Python Web Framework', 'url': 'https://medium.com/@leofalcone/a-basic-overview-of-django-the-python-web-framework-14f5d1623cc0'}\n",
      "{'tags': \"['Flask', 'Python', 'HTML']\", 'title': 'Web Hosting using Python', 'url': 'https://medium.com/datadriveninvestor/web-hosting-using-python-3dbb00abdcba'}\n",
      "{'tags': \"['Data Science', 'Web Scraping', 'Python', 'Analysis', 'Data']\", 'title': 'Web scraping com Python', 'url': 'https://medium.com/dados/web-scraping-com-python-45531a6138c9'}\n",
      "{'tags': \"['Flask', 'Python', 'HTML']\", 'title': 'Web Hosting using Python', 'url': 'https://medium.com/datadriveninvestor/web-hosting-using-python-3dbb00abdcba'}\n",
      "{'tags': \"['Software Development', 'Programming', 'Python', 'Data Science', 'Web Development']\", 'title': 'What Are The Best & Popular Python Frameworks', 'url': 'https://medium.com/python-in-plain-english/what-are-the-best-popular-python-freamworks-4379f4a6e37c'}\n",
      "{'tags': \"['Programming', 'Coding', 'Python', 'Django', 'Web Development']\", 'title': 'Web Development in Python: Lesson 1', 'url': 'https://medium.com/python-in-plain-english/web-development-in-python-lesson-1-d87ef3e439fc'}\n"
     ]
    }
   ],
   "source": [
    "for result in results:\n",
    "    print(result['metadatas'][0][0])"
   ]
  },
  {
   "cell_type": "code",
   "execution_count": 126,
   "metadata": {},
   "outputs": [],
   "source": [
    "final_result_query_expansion_related_keywords = build_result_multiple_queries(results)"
   ]
  },
  {
   "cell_type": "code",
   "execution_count": 127,
   "metadata": {},
   "outputs": [],
   "source": [
    "df_query_expansion_related_keywords_result = build_df_retrieved_result(final_result_query_expansion_related_keywords)"
   ]
  },
  {
   "cell_type": "code",
   "execution_count": 128,
   "metadata": {},
   "outputs": [
    {
     "data": {
      "text/html": [
       "<div>\n",
       "<style scoped>\n",
       "    .dataframe tbody tr th:only-of-type {\n",
       "        vertical-align: middle;\n",
       "    }\n",
       "\n",
       "    .dataframe tbody tr th {\n",
       "        vertical-align: top;\n",
       "    }\n",
       "\n",
       "    .dataframe thead th {\n",
       "        text-align: right;\n",
       "    }\n",
       "</style>\n",
       "<table border=\"1\" class=\"dataframe\">\n",
       "  <thead>\n",
       "    <tr style=\"text-align: right;\">\n",
       "      <th></th>\n",
       "      <th>ids</th>\n",
       "      <th>distances</th>\n",
       "      <th>tags</th>\n",
       "      <th>titles</th>\n",
       "      <th>urls</th>\n",
       "    </tr>\n",
       "  </thead>\n",
       "  <tbody>\n",
       "    <tr>\n",
       "      <th>0</th>\n",
       "      <td>86007</td>\n",
       "      <td>0.274412</td>\n",
       "      <td>['Flask', 'Python', 'HTML']</td>\n",
       "      <td>Web Hosting using Python</td>\n",
       "      <td>https://medium.com/datadriveninvestor/web-host...</td>\n",
       "    </tr>\n",
       "    <tr>\n",
       "      <th>1</th>\n",
       "      <td>86007</td>\n",
       "      <td>0.309433</td>\n",
       "      <td>['Flask', 'Python', 'HTML']</td>\n",
       "      <td>Web Hosting using Python</td>\n",
       "      <td>https://medium.com/datadriveninvestor/web-host...</td>\n",
       "    </tr>\n",
       "    <tr>\n",
       "      <th>2</th>\n",
       "      <td>76575</td>\n",
       "      <td>0.237362</td>\n",
       "      <td>['Software Development', 'Programming', 'Pytho...</td>\n",
       "      <td>What Are The Best &amp; Popular Python Frameworks</td>\n",
       "      <td>https://medium.com/python-in-plain-english/wha...</td>\n",
       "    </tr>\n",
       "    <tr>\n",
       "      <th>3</th>\n",
       "      <td>38143</td>\n",
       "      <td>0.278728</td>\n",
       "      <td>['Python Programming', 'Flask Framework', 'Pyt...</td>\n",
       "      <td>Flask Tutorial Python — Basics of The Flask Fr...</td>\n",
       "      <td>https://medium.com/@p4p3rb0y1/flask-tutorial-p...</td>\n",
       "    </tr>\n",
       "    <tr>\n",
       "      <th>4</th>\n",
       "      <td>96567</td>\n",
       "      <td>0.264278</td>\n",
       "      <td>['Portal', 'Web Development', 'Django Framewor...</td>\n",
       "      <td>A Basic Overview of Django, the Python Web Fra...</td>\n",
       "      <td>https://medium.com/@leofalcone/a-basic-overvie...</td>\n",
       "    </tr>\n",
       "    <tr>\n",
       "      <th>5</th>\n",
       "      <td>86007</td>\n",
       "      <td>0.310809</td>\n",
       "      <td>['Flask', 'Python', 'HTML']</td>\n",
       "      <td>Web Hosting using Python</td>\n",
       "      <td>https://medium.com/datadriveninvestor/web-host...</td>\n",
       "    </tr>\n",
       "    <tr>\n",
       "      <th>6</th>\n",
       "      <td>33669</td>\n",
       "      <td>0.324690</td>\n",
       "      <td>['Data Science', 'Web Scraping', 'Python', 'An...</td>\n",
       "      <td>Web scraping com Python</td>\n",
       "      <td>https://medium.com/dados/web-scraping-com-pyth...</td>\n",
       "    </tr>\n",
       "    <tr>\n",
       "      <th>7</th>\n",
       "      <td>86007</td>\n",
       "      <td>0.347834</td>\n",
       "      <td>['Flask', 'Python', 'HTML']</td>\n",
       "      <td>Web Hosting using Python</td>\n",
       "      <td>https://medium.com/datadriveninvestor/web-host...</td>\n",
       "    </tr>\n",
       "    <tr>\n",
       "      <th>8</th>\n",
       "      <td>76575</td>\n",
       "      <td>0.367306</td>\n",
       "      <td>['Software Development', 'Programming', 'Pytho...</td>\n",
       "      <td>What Are The Best &amp; Popular Python Frameworks</td>\n",
       "      <td>https://medium.com/python-in-plain-english/wha...</td>\n",
       "    </tr>\n",
       "    <tr>\n",
       "      <th>9</th>\n",
       "      <td>64395</td>\n",
       "      <td>0.372018</td>\n",
       "      <td>['Programming', 'Coding', 'Python', 'Django', ...</td>\n",
       "      <td>Web Development in Python: Lesson 1</td>\n",
       "      <td>https://medium.com/python-in-plain-english/web...</td>\n",
       "    </tr>\n",
       "  </tbody>\n",
       "</table>\n",
       "</div>"
      ],
      "text/plain": [
       "     ids  distances                                               tags  \\\n",
       "0  86007   0.274412                        ['Flask', 'Python', 'HTML']   \n",
       "1  86007   0.309433                        ['Flask', 'Python', 'HTML']   \n",
       "2  76575   0.237362  ['Software Development', 'Programming', 'Pytho...   \n",
       "3  38143   0.278728  ['Python Programming', 'Flask Framework', 'Pyt...   \n",
       "4  96567   0.264278  ['Portal', 'Web Development', 'Django Framewor...   \n",
       "5  86007   0.310809                        ['Flask', 'Python', 'HTML']   \n",
       "6  33669   0.324690  ['Data Science', 'Web Scraping', 'Python', 'An...   \n",
       "7  86007   0.347834                        ['Flask', 'Python', 'HTML']   \n",
       "8  76575   0.367306  ['Software Development', 'Programming', 'Pytho...   \n",
       "9  64395   0.372018  ['Programming', 'Coding', 'Python', 'Django', ...   \n",
       "\n",
       "                                              titles  \\\n",
       "0                           Web Hosting using Python   \n",
       "1                           Web Hosting using Python   \n",
       "2      What Are The Best & Popular Python Frameworks   \n",
       "3  Flask Tutorial Python — Basics of The Flask Fr...   \n",
       "4  A Basic Overview of Django, the Python Web Fra...   \n",
       "5                           Web Hosting using Python   \n",
       "6                            Web scraping com Python   \n",
       "7                           Web Hosting using Python   \n",
       "8      What Are The Best & Popular Python Frameworks   \n",
       "9                Web Development in Python: Lesson 1   \n",
       "\n",
       "                                                urls  \n",
       "0  https://medium.com/datadriveninvestor/web-host...  \n",
       "1  https://medium.com/datadriveninvestor/web-host...  \n",
       "2  https://medium.com/python-in-plain-english/wha...  \n",
       "3  https://medium.com/@p4p3rb0y1/flask-tutorial-p...  \n",
       "4  https://medium.com/@leofalcone/a-basic-overvie...  \n",
       "5  https://medium.com/datadriveninvestor/web-host...  \n",
       "6  https://medium.com/dados/web-scraping-com-pyth...  \n",
       "7  https://medium.com/datadriveninvestor/web-host...  \n",
       "8  https://medium.com/python-in-plain-english/wha...  \n",
       "9  https://medium.com/python-in-plain-english/web...  "
      ]
     },
     "execution_count": 128,
     "metadata": {},
     "output_type": "execute_result"
    }
   ],
   "source": [
    "df_query_expansion_related_keywords_result"
   ]
  },
  {
   "cell_type": "markdown",
   "metadata": {},
   "source": [
    "### Cross Encoder re-ranking\n",
    "\n",
    "Consiste na técnica de obter \"candidatos\" através da busca por similaridade, porém após obter esses candidatos, cada candidato e a query original servem de entrada para a rede Transformer e a saída é dada por um score entre 0 e 1 indicando o quanto o candidato é relevante para a query"
   ]
  },
  {
   "cell_type": "code",
   "execution_count": 129,
   "metadata": {},
   "outputs": [],
   "source": [
    "cross_encoder = CrossEncoder('cross-encoder/ms-marco-MiniLM-L-6-v2')"
   ]
  },
  {
   "cell_type": "code",
   "execution_count": 130,
   "metadata": {},
   "outputs": [
    {
     "data": {
      "text/html": [
       "<div>\n",
       "<style scoped>\n",
       "    .dataframe tbody tr th:only-of-type {\n",
       "        vertical-align: middle;\n",
       "    }\n",
       "\n",
       "    .dataframe tbody tr th {\n",
       "        vertical-align: top;\n",
       "    }\n",
       "\n",
       "    .dataframe thead th {\n",
       "        text-align: right;\n",
       "    }\n",
       "</style>\n",
       "<table border=\"1\" class=\"dataframe\">\n",
       "  <thead>\n",
       "    <tr style=\"text-align: right;\">\n",
       "      <th></th>\n",
       "      <th>title</th>\n",
       "      <th>url</th>\n",
       "      <th>tags</th>\n",
       "      <th>full_text</th>\n",
       "      <th>sentence_embeddings</th>\n",
       "      <th>id</th>\n",
       "    </tr>\n",
       "  </thead>\n",
       "  <tbody>\n",
       "    <tr>\n",
       "      <th>0</th>\n",
       "      <td>Warming your lambda functions using the AWS CDK</td>\n",
       "      <td>https://medium.com/@louisjq/warming-your-lambd...</td>\n",
       "      <td>['AWS', 'AWS Lambda', 'Cdk']</td>\n",
       "      <td>Warming your lambda functions using the AWS CD...</td>\n",
       "      <td>[0.00647616246715188, 0.0004706464533228427, 0...</td>\n",
       "      <td>0</td>\n",
       "    </tr>\n",
       "  </tbody>\n",
       "</table>\n",
       "</div>"
      ],
      "text/plain": [
       "                                             title  \\\n",
       "0  Warming your lambda functions using the AWS CDK   \n",
       "\n",
       "                                                 url  \\\n",
       "0  https://medium.com/@louisjq/warming-your-lambd...   \n",
       "\n",
       "                           tags  \\\n",
       "0  ['AWS', 'AWS Lambda', 'Cdk']   \n",
       "\n",
       "                                           full_text  \\\n",
       "0  Warming your lambda functions using the AWS CD...   \n",
       "\n",
       "                                 sentence_embeddings id  \n",
       "0  [0.00647616246715188, 0.0004706464533228427, 0...  0  "
      ]
     },
     "execution_count": 130,
     "metadata": {},
     "output_type": "execute_result"
    }
   ],
   "source": [
    "df_articles.head(1)"
   ]
  },
  {
   "cell_type": "code",
   "execution_count": 131,
   "metadata": {},
   "outputs": [],
   "source": [
    "retrieved_ids = result_original_retrieve['ids'][0]"
   ]
  },
  {
   "cell_type": "code",
   "execution_count": 132,
   "metadata": {},
   "outputs": [
    {
     "data": {
      "text/plain": [
       "['86007',\n",
       " '65351',\n",
       " '8240',\n",
       " '64395',\n",
       " '62018',\n",
       " '38143',\n",
       " '53842',\n",
       " '21827',\n",
       " '66840',\n",
       " '98111']"
      ]
     },
     "execution_count": 132,
     "metadata": {},
     "output_type": "execute_result"
    }
   ],
   "source": [
    "retrieved_ids"
   ]
  },
  {
   "cell_type": "code",
   "execution_count": 133,
   "metadata": {},
   "outputs": [],
   "source": [
    "def get_article_sentences(data, ids):\n",
    "    return data.loc[data['id'].isin(ids)]"
   ]
  },
  {
   "cell_type": "code",
   "execution_count": 134,
   "metadata": {},
   "outputs": [],
   "source": [
    "df_retrieved_data = get_article_sentences(df_articles, retrieved_ids)"
   ]
  },
  {
   "cell_type": "code",
   "execution_count": 135,
   "metadata": {},
   "outputs": [],
   "source": [
    "retrieved_articles_text = df_retrieved_data['full_text'].tolist()"
   ]
  },
  {
   "cell_type": "code",
   "execution_count": 136,
   "metadata": {},
   "outputs": [
    {
     "data": {
      "text/plain": [
       "['Basic application with Django\\n\\nFinally we got to the awesome Python framework Django which allows you to use python for developing web applications.\\n\\nPrerequisites\\n\\nFirst ensure that you have python and pip installed. Then let’s install Django:\\n\\npython -m pip install Django\\n\\nAnd check if it’s installed and ready to use:\\n\\npython -m django — version\\n\\nIf you can see a version of the Django library then you are ready to go.\\n\\nProject Setup\\n\\nNow, let’s create new Django project:\\n\\ndjango-admin startproject myCoolProject\\n\\nThis command will create a myCoolProject directory in the directory you recently located. And inside it will create this files:\\n\\nNext we can cd into myCoolProject directory and start the server:\\n\\npython manage.py runserver\\n\\nIf everything is correct you should see something like this in your console:\\n\\nAnd if you open http://127.0.0.1:8000 in web browser you should see this:\\n\\nNew app\\n\\nNow we know that Django and the project environment is ready and working, we can work on our own application. First, let’s create one:\\n\\npython manage.py startapp newApp\\n\\nThis is how the file structure of the new app looks like:\\n\\nServe the content\\n\\nNow let’s create views to render some content on the DOM. View it’s description of what will be served to the user when they hit a specific route in our app. Views can be found in, surprise, views.py file which is located in the app directory.\\n\\nThis is very simple view, but we need to start with simple things and then build complexity and functionality up:\\n\\nWe import the HttpResponse method from the Django libraries. It will create a <body> html element and put the string inside which we provide as an argument.\\n\\nNext we need to open urls.py in the project (not the app) directory, import freshly created view and specify on which route this view should be rendered:\\n\\nNow you can refresh index page of our app and we can see this:\\n\\nIf you would like to modify the rout you could specify which view you would like to render for which route:\\n\\nConclusion\\n\\nHooray, our first app is up and running with Django! Is in it cool to use python for web-development? I know you agree with me!\\n\\nNext time we will create a RESTful API and will learn how Django works with models and databases.\\n\\nKeep learning, keep growing!\\n\\nLet’s connect on LinkedIn!\\n\\nGain Access to Expert View — Subscribe to DDI Intel',\n",
       " 'Getting Started With Flask — Python Framework\\n\\nCreating Your First Flask App — Let’s Get started\\n\\nRequirements :\\n\\n1) Python — Download Latest Version from here\\n\\n2) Flask — Documentation here\\n\\nInstalling Flask\\n\\n$ pip install Flask\\n\\n\\n\\nor $ pip install -U Flask\\n\\n3)IDE’s — Any IDE’s of Your Choice (pycharm preferable for its feature set)\\n\\nNow that we are set with the our prerequisites, Let’s Get into knowing more about Flask\\n\\nFlask is a lightweight WSGI web application framework. It is quick and easy to get started with(This blog makes it even easier😛 ).Flask has the ability to scale up to complex applications and It primarily depends on Jinja template Engine And Werkzeug WSGI toolkit.\\n\\nIt is also one of the most popular Python web application frameworks.\\n\\nFlask offers suggestions, but doesn’t enforce any dependencies or project layout. It is up to the developer to choose the tools and libraries they want to use. There are many extensions provided by the community that make adding new functionality easy.\\n\\nHere’s a survey conducted by JetBrains , 48% of python developer’s use Flask compared to Django’s 44%.\\n\\nPS : It’s an individual preference to choose the suitable framework for their Application , Don’t get into it any frameworks by seeing their numbers or their popularity . Posted this survey for a reference .\\n\\nPython Developer Survey 2019\\n\\nHello World — In Flask\\n\\nThe Reason why flask is simple and easy to get started with is because you can create an app with the below 5 lines, It’s that simple.\\n\\napp.py\\n\\nDo not name the file as Flask.py , it throws an error\\n\\nRun the file\\n\\nTo run the file : Python “filename”.py\\n\\nExample: Filename is saved as hello.py\\n\\nIn Console run the following command : python hello.py\\n\\nThe following lines shows that your app is ready and running on default http://127.0.0.1:5000/\\n\\nEnter the URL(http://127.0.0.1:5000/) in any browser of your choice :\\n\\nHello World Running on http://127.0.0.1:5000/\\n\\nNow that you created your first Flask app and its running , Let’s break down what does the 5 lines of code do:\\n\\n1)from flask import Flask\\n\\nImporting Flask (F : capital ) from the flask package which creates an object\\n\\n2)app=Flask(__name__)\\n\\nAn instance of the Flask Object stored in variable app\\n\\n3)@app.route(“/”)\\n\\n4)def First_Flask_App():\\n\\n5)return “hello world”\\n\\nThe primary function of our app is called First_flask_app() , which is wrapped by Flask\\'s most important decorator: .route() and the function returns “hello world”.\\n\\nDecorator is a function for us to wrap other functions , Flask comes with a route decorator which allows us to serve up functions based on which page of the app the user is loading. By setting @app.route(\"/\") , we are specifying that the function First_flask_app() should trigger whenever somebody uses our app.\\n\\nThat’s it , Start implementing .\\n\\nI tried to make it simple and yet understandable !',\n",
       " 'Flask Tutorial Python — Basics of The Flask Framework\\n\\nLet us move on with the journey of creating our web application using this\\n\\nflask tutorial. This python flask tutorial is in continuation with my last post on How To Start Web Development With Flask too.\\n\\nIn this tutorial series, you will learn how Flask becomes part of a web\\n\\ndevelopment workflow and what additional details as a web developer you need to know other than knowing the components of the Flask framework.\\n\\nWe are using Python version 3 and are already aware of the following\\n\\nconcepts.\\n\\n1. Installation of Python\\n\\n2. Installation and activation of Python’s virtual environment.\\n\\nLet us move ahead with an assumption that all commands will be executed inside the command prompt or a terminal in an activated virtual environment and all file edits will be done in the editor of your choice.\\n\\nMoreover, if you want some extensions to build their wheel distributions in the virtual environment then you can install Python’s wheel package using the below command.\\n\\npip install wheel\\n\\nHowever, if you want to have the look at the code examples from these tutorials then you can visit the repository at https://github.com/theflaskbooks/flask-tutorial.\\n\\nIf required you can clone the repository using the below-given command.\\n\\nWhat is Flask?\\n\\nFlask is a micro-framework written in Python and was developed by Armin\\n\\nRonacher. Its initial release was approx 10 years ago on April 1, 2010.\\n\\nFlask is classified as a micro framework because it does not come with built-in tools and utilities for tasks such as database interaction, form validation, or other similar components or libraries that provide common functions.\\n\\nHowever, the Flask community has contributed a lot by providing these common functions in the form of Flask extensions. These Flask extensions are installed with the help of Python’s package manager — Pip.\\n\\nDevelopment of Flask Application for complex projects require us to make use of Flask extensions. I am going to cover some great flask extensions while explaining common functions.\\n\\nCreate Your First Flask Application Project\\n\\nLet us create our first professional-looking Flask Application project with most common features of Flask framework already present.\\n\\nInstall Flask-Appbuilder\\n\\nUse the below-given command to install Flask-Appbuilder.\\n\\npip install Flask-Appbuilder\\n\\nInstallation of the Flask-Appbuilder extension makes fab sub-command available for use. Now create the skeleton of your next big Flask project using the below-given command.\\n\\nflask fab create-app\\n\\nFollow the prompts in this interactive command-line application to create the skeleton of the first application. Leave the default value for “Your engine type”.\\n\\nOnce you complete the prompts of the create-app command, you get an output like the one shown below.\\n\\n(venv) $ flask fab create-app\\n\\nYour new app name: myapp\\n\\nYour engine type, SQLAlchemy or MongoEngine (SQLAlchemy, MongoEngine) [SQLAlchemy]:\\n\\nDownloaded the skeleton app, good coding!\\n\\nMoreover, you can have a look at the directory structure of the project. It should look like the one shown below.\\n\\nmyapp/\\n\\n| — README.rst\\n\\n| — app\\n\\n| | — __init__.py\\n\\n| | — models.py\\n\\n| | — templates\\n\\n| | ` — 404.html\\n\\n| | — translations\\n\\n| | ` — pt\\n\\n| | ` — LC_MESSAGES\\n\\n| | | — messages.mo\\n\\n| | ` — messages.po\\n\\n| ` — views.py\\n\\n| — babel\\n\\n| | — babel.cfg\\n\\n| ` — messages.pot\\n\\n| — config.py\\n\\n` — run.py\\n\\nI kept the name of my Flask application as “myapp”. The created application structure is suitable for developing a web application using the MVC pattern of web development.\\n\\nMVC stands for Model-View-Controller. It is a design pattern that divides the\\n\\nprogram logic into three interconnected elements. This form of internal\\n\\ninformation representation is different from the way information is presented to and accepted from the user.\\n\\n1. Model — The code concerning the interaction with the database in the file models.py.\\n\\n2. View — The Application code concerning the routes and views are written in views.py.\\n\\n3. Controller — Controllers or methods that correspond to one route are also written in this file. However, note that it is not best practice to have complex business logic inside of the view.py file. It is best to keep such logic outside in a separate Python module or a package.\\n\\nConfiguration values that are required application-wide are to be kept in the file `config.py`.\\n\\nFor running the development server for this application, you need to use the command line or terminal to go into the project’s root directory and use the below-given command.\\n\\npython run.py\\n\\nHave a look at the code inside the `run.py` file.\\n\\nfrom app import app app.run(host=”0.0.0.0\", port=8080, debug=True)\\n\\nThe output from the development server is quite verbose. Points to note here is that you can specify the values for host, port, and debug while running the development server.\\n\\nFor the host, you need to give the IP address of the network card that you want to run your application on. Here “0.0.0.0” address means that the application is listening on all network interfaces on your computer.\\n\\nIt means that the application can be accessed inside the internal network from any other local machine. This is quite useful if you want other teammates to test your application from their computers.\\n\\nIf you specify True for debug parameter then the development server will run in DEBUG mode and will automatically reload the files whenever you make any changes to them.\\n\\nFor port, you can specify any value you want between 0 and 65535. However, it is a convention to keep this value greater than 4000 so that, during development, your application doesn’t interfere with other applications running on your computer.\\n\\nWhat is a Flask template?\\n\\nFiles concerning the representation layer of the web application are kept under the templates directory. These templates are called Jinja2 templates.\\n\\nFlask uses Jinja2 libraries to render templates. These files under template directory contain static data as well as placeholders for dynamic data.\\n\\nSummary\\n\\nIn this tutorial, I explained the steps of installing a Flask extension called\\n\\nFlask-Appbuilder, which is a simple and rapid application development framework created on top of Flask.\\n\\nAdditionally, I mentioned the details on Flask Appbuilder’s create-app command and the files inside the skeleton it creates for us to use while developing the Flask Application.\\n\\nRead my previous tutorial How to Start Web Development With Flask. In my next tutorial, I will cover Flask Templates. Meanwhile, you can try warming up with the development server and different configuration values.',\n",
       " 'Your First website with Flask\\n\\nFlask is one of the most popular web framework in Python.\\n\\nIts is very east that you can deploy your website in fewer lines of code.\\n\\nInstall Flask in your system.\\n\\npip install flask\\n\\nFile structure is important.\\n\\nIn this tutorial we will learn how to write your flask web app.\\n\\n=>Application folder\\n\\n==>Hello.py\\n\\n==>templates\\n\\n====> hello.html\\n\\nfrom flask import Flask app = Flask(__name__)\\n\\ndef index():\\n\\nreturn render_template(‘hello.html’)\\n\\n\\n\\nif __name__ == ‘__main__’:\\n\\napp.run(debug = True) @app .route(‘/’)def index():return render_template(‘hello.html’)if __name__ == ‘__main__’:app.run(debug = True)\\n\\nand now make some simple html page\\n\\n<!DOCTYPE html> <html lang=\"en\"> <head> <meta charset=\"UTF-8\"> <meta name=\"viewport\" content=\"width=device-width, initial-scale=1.0\"> <title>Your first Flask Website</title> </head> <body> <h1> Follow @nitish_leeo at Instagram </h1> </body> </html>\\n\\nThank you !!',\n",
       " \"What exactly can you do with Python? Here are Python's 3 main applications.\\n\\nIf you’re thinking of learning Python — or if you recently started learning it — you may be asking yourself:\\n\\n“What exactly can I use Python for?”\\n\\nWell that’s a tricky question to answer, because there are so many applications for Python.\\n\\nBut over time, I have observed that there are 3 main popular applications for Python:\\n\\nWeb Development\\n\\nData Science — including machine learning, data analysis, and data visualization\\n\\nScripting\\n\\nLet’s talk about each of them in turn.\\n\\nWeb Development\\n\\nWeb frameworks that are based on Python like Django and Flask have recently become very popular for web development.\\n\\nThese web frameworks help you create server-side code (backend code) in Python. That’s the code that runs on your server, as opposed to on users’ devices and browsers (front-end code). If you’re not familiar with the difference between backend code and front-end code, please see my footnote below.\\n\\nBut wait, why do I need a web framework?\\n\\nThat’s because a web framework makes it easier to build common backend logic. This includes mapping different URLs to chunks of Python code, dealing with databases, and generating HTML files users see on their browsers.\\n\\nWhich Python web framework should I use?\\n\\nDjango and Flask are two of the most popular Python web frameworks. I’d recommend using one of them if you’re just getting started.\\n\\nWhat’s the difference between Django and Flask?\\n\\nThere’s an excellent article about this topic by Gareth Dwyer, so let me quote it here:\\n\\n<begin quote>\\n\\nMain contrasts:\\n\\nFlask provides simplicity, flexibility and fine-grained control. It is unopinionated (it lets you decide how you want to implement things).\\n\\nDjango provides an all-inclusive experience: you get an admin panel, database interfaces, an ORM [object-relational mapping], and directory structure for your apps and projects out of the box.\\n\\nYou should probably choose:\\n\\nFlask, if you’re focused on the experience and learning opportunities, or if you want more control about which components to use (such as what databases you want to use and how you want to interact with them).\\n\\nDjango, if you’re focused on the final product. Especially if you’re working on a straight-forward application such as a news site, an e-store, or blog, and you want there to always be a single, obvious way of doing things.\\n\\n</end quote>\\n\\nIn other words, If you’re a beginner, Flask is probably a better choice because it has fewer components to deal with. Also, Flask is a better choice if you want more customization.\\n\\nOn the other hand, if you’re looking to build something straight-forward, Django will probably let you get there faster.\\n\\nNow, if you’re looking to learn Django, I recommend the book called Django for Beginners. You can find it here.\\n\\nYou can also find the free sample chapters of that book here.\\n\\nOkay, let’s go to the next topic!\\n\\nData Science — including machine learning, data analysis, and data visualization\\n\\nFirst of all, let’s review what machine learning is.\\n\\nI think the best way to explain what machine learning is would be to give you a simple example.\\n\\nLet’s say you want to develop a program that automatically detects what’s in a picture.\\n\\nSo, given this picture below (Picture 1), you want your program to recognize that it’s a dog.\\n\\nPicture 1\\n\\nGiven this other one below (Picture 2), you want your program to recognize that it’s a table.\\n\\nPicture 2\\n\\nYou might say, well, I can just write some code to do that. For example, maybe if there are a lot of light brown pixels in the picture, then we can say that it’s a dog.\\n\\nOr maybe, you can figure out how to detect edges in a picture. Then, you might say, if there are many straight edges, then it’s a table.\\n\\nHowever, this kind of approach gets tricky pretty quickly. What if there’s a white dog in the picture with no brown hair? What if the picture shows only the round parts of the table?\\n\\nThis is where machine learning comes in.\\n\\nMachine learning typically implements an algorithm that automatically detects a pattern in the given input.\\n\\nYou can give, say, 1,000 pictures of a dog and 1,000 pictures of a table to a machine learning algorithm. Then, it will learn the difference between a dog and a table. When you give it a new picture of either a dog or a table, it will be able to recognize which one it is.\\n\\nI think this is somewhat similar to how a baby learns new things. How does a baby learn that one thing looks like a dog and another a table? Probably from a bunch of examples.\\n\\nYou probably don’t explicitly tell a baby, “If something is furry and has light brown hair, then it’s probably a dog.”\\n\\nYou would probably just say, “That’s a dog. This is also a dog. And this one is a table. That one is also a table.”\\n\\nMachine learning algorithms work much the same way.\\n\\nYou can apply the same idea to:\\n\\nrecommendation systems (think YouTube, Amazon, and Netflix)\\n\\nface recognition\\n\\nvoice recognition\\n\\namong other applications.\\n\\nPopular machine learning algorithms you might have heard about include:\\n\\nNeural networks\\n\\nDeep learning\\n\\nSupport vector machines\\n\\nRandom forest\\n\\nYou can use any of the above algorithms to solve the picture-labeling problem I explained earlier.\\n\\nPython for machine learning\\n\\nThere are popular machine learning libraries and frameworks for Python.\\n\\nTwo of the most popular ones are scikit-learn and TensorFlow.\\n\\nscikit-learn comes with some of the more popular machine learning algorithms built-in. I mentioned some of them above.\\n\\nTensorFlow is more of a low-level library that allows you to build custom machine learning algorithms.\\n\\nIf you’re just getting started with a machine learning project, I would recommend that you first start with scikit-learn. If you start running into efficiency issues, then I would start looking into TensorFlow.\\n\\nHow should I learn machine learning?\\n\\nTo learn machine learning fundamentals, I would recommend either Stanford’s or Caltech’s machine learning course.\\n\\nPlease note that you need basic knowledge of calculus and linear algebra to understand some of the materials in those courses.\\n\\nThen, I would practice what you’ve learned from one of those courses with Kaggle. It’s a website where people compete to build the best machine learning algorithm for a given problem. They have nice tutorials for beginners, too.\\n\\nWhat about data analysis and data visualization?\\n\\nTo help you understand what these might look like, let me give you a simple example here.\\n\\nLet’s say you’re working for a company that sells some products online.\\n\\nThen, as a data analyst, you might draw a bar graph like this.\\n\\nBar Chart 1 — generated with Python\\n\\nFrom this graph, we can tell that men bought over 400 units of this product and women bought about 350 units of this product this particular Sunday.\\n\\nAs a data analyst, you might come up with a few possible explanations for this difference.\\n\\nOne obvious possible explanation is that this product is more popular with men than with women. Another possible explanation might be that the sample size is too small and this difference was caused just by chance. And yet another possible explanation might be that men tend to buy this product more only on Sunday for some reason.\\n\\nTo understand which of these explanations is correct, you might draw another graph like this one.\\n\\nLine Chart 1 — generated with Python\\n\\nInstead of showing the data for Sunday only, we’re looking at the data for a full week. As you can see, from this graph, we can see that this difference is pretty consistent over different days.\\n\\nFrom this little analysis, you might conclude that the most convincing explanation for this difference is that this product is simply more popular with men than with women.\\n\\nOn the other hand, what if you see a graph like this one instead?\\n\\nLine Chart 2 — also generated with Python\\n\\nThen, what explains the difference on Sunday?\\n\\nYou might say, perhaps men tend to buy more of this product only on Sunday for some reason. Or, perhaps it was just a coincidence that men bought more of it on Sunday.\\n\\nSo, this is a simplified example of what data analysis might look like in the real world.\\n\\nThe data analysis work I did when I was working at Google and Microsoft was very similar to this example — only more complex. I actually used Python at Google for this kind of analysis, while I used JavaScript at Microsoft.\\n\\nI used SQL at both of those companies to pull data from our databases. Then, I would use either Python and Matplotlib (at Google) or JavaScript and D3.js (at Microsoft) to visualize and analyze this data.\\n\\nData analysis / visualization with Python\\n\\nOne of the most popular libraries for data visualization is Matplotlib.\\n\\nIt’s a good library to get started with because:\\n\\nIt’s easy to get started with\\n\\nSome other libraries such as seaborn is based on it. So, learning Matplotlib will help you learn these other libraries later on.\\n\\nHow should I learn data analysis / visualization with Python?\\n\\nYou should first learn the fundamentals of data analysis and visualization. When I looked for good resources for this online, I couldn’t find any. So, I ended up making a YouTube video on this topic:\\n\\nIntro to Data Analysis / Visualization with Python and Matplotlib\\n\\nI also ended up making a full course on this topic on Pluralsight, which you can take for free by signing up to their 10-day free trial.\\n\\nI’d recommend both of them.\\n\\nAfter learning the fundamentals of data analysis and visualization, learning fundamentals of statistics from websites like Coursera and Khan Academy will be helpful, as well.\\n\\nScripting\\n\\nWhat is scripting?\\n\\nScripting usually refers to writing small programs that are designed to automate simple tasks.\\n\\nSo, let me give you an example from my personal experience here.\\n\\nI used to work at a small startup in Japan where we had an email support system. It was a system for us to respond to questions customers sent us via email.\\n\\nWhen I was working there, I had the task of counting the numbers of emails containing certain keywords so we could analyze the emails we received.\\n\\nWe could have done it manually, but instead, I wrote a simple program / simple script to automate this task.\\n\\nActually, we used Ruby for this back then, but Python is also a good language for this kind of task. Python is suited for this type of task mainly because it has relatively simple syntax and is easy to write. It’s also quick to write something small with it and test it.\\n\\nWhat about embedded applications?\\n\\nI’m not an expert on embedded applications, but I know that Python works with Rasberry Pi. It seems like a popular application among hardware hobbyists.\\n\\nWhat about gaming?\\n\\nYou could use the library called PyGame to develop games, but it’s not the most popular gaming engine out there. You could use it to build a hobby project, but I personally wouldn’t choose it if you’re serious about game development.\\n\\nRather, I would recommend getting started with Unity with C#, which is one of the most popular gaming engines. It allows you to build a game for many platforms, including Mac, Windows, iOS, and Android.\\n\\nWhat about desktop applications?\\n\\nYou could make one with Python using Tkinter, but it doesn’t seem like the most popular choice either.\\n\\nInstead, it seems like languages like Java, C#, and C++ are more popular for this.\\n\\nRecently, some companies have started using JavaScript to create Desktop applications, too.\\n\\nFor example, Slack’s desktop app was built with something called Electron. It allows you to build desktop applications with JavaScript.\\n\\nPersonally, if I was building a desktop application, I would go with a JavaScript option. It allows you to reuse some of the code from a web version if you have it.\\n\\nHowever, I’m not an expert on desktop applications either, so please let me know in a comment if you disagree or agree with me on this.\\n\\nPython 3 or Python 2?\\n\\nI would recommend Python 3 since it’s more modern and it’s a more popular option at this point.\\n\\nFootnote: A note about back-end code vs front-end code (just in case you are not familiar with the terms):\\n\\nLet’s say you want to make something like Instagram.\\n\\nThen, you’d need to create front-end code for each type of device you want to support.\\n\\nYou might use, for example:\\n\\nSwift for iOS\\n\\nJava for Android\\n\\nJavaScript for web browsers\\n\\nEach set of code will run on each type of device / browser. This will be the set of code that determines what the layout of the app will be like, what the buttons should look like when you click them, etc.\\n\\nHowever, you will still need the ability to store users’ info and photos. You will want to store them on your server and not just on your users’ devices so each user’s followers can view his/her photos.\\n\\nThis is where the backend code / server-side code comes in. You’ll need to write some backend code to do things like:\\n\\nKeep track of who’s following who\\n\\nCompress photos so they don’t take up so much storage space\\n\\nRecommend photos and new accounts to each user in the discovery feature\\n\\nSo, this is the difference between backend code and front-end code.\\n\\nBy the way, Python is not the only good choice for writing backend / server-side code. There are many other popular choices, including Node.js, which is based on JavaScript.\\n\\nLiked this article? Then, you might also like my YouTube channel.\\n\\nI have a programming education YouTube channel called CS Dojo with 440,000+ subscribers, where I produce more content like this article.\\n\\nFor example, you might like these videos:\\n\\nWhat Programming Language Should I Learn First?\\n\\nHow I Learned to Code — and Got a Job at Google!\\n\\nAnyway, thanks a lot for reading my article!\",\n",
       " 'Web Development in Python: Lesson 1\\n\\nA quick tutorial to show the power of Django ( Python’s Framework) to create a website. So get your computer and start typing some code.\\n\\nAnytime you do something with python, its a best practice to start with the virtual environment. The reason we use a virtual environment is to keep our dependencies in one place. As your project grows, you may need some other modules in your program, and imagine installing them every time you start your project after either you cancel your terminal or shut down your laptop 😳 So first go to the folder where you want to keep all your code files. Go into terminal and type this:\\n\\n#create a directory\\n\\nmkdir Project\\n\\ncd Project #install virtual environment\\n\\npython3 -m venv env\\n\\nsource env/bin/activate pip install django #to check if it is installed properly\\n\\npython3 -m django --version #you should see something like this\\n\\n#3.0.6\\n\\nnow, Django is installed, and let’s start cooking some code. The first command is to start the project\\n\\ndjango-admin startproject website\\n\\nso this is how your website folder looks like, let’s see what’s inside.\\n\\n__init__.py: this is an empty file. It tells Python to treat this directory as a Python Package. asgi.py: will be used for deployment. settings.py: You will play with it a lot. urls.py: VERY IMPORTANT file.these are your controllers. wsgi.py: again, for deployment. website/manage.py: it’s a command-line utility. manage.py will be referred with nearly all the Django’s command.\\n\\nThis is the basic setup you get after you ran your first command. Now, imagine your website has e-commerce stuff, you handle payments, there are different pages showing different products. A lot of different coupons, sales, etc. and that can make your folder into a giant folder, and everything will be a mess. Django has a smarter way to do this, using Apps. For nearly every different feature, there will be a different app. Cool right?! 😎\\n\\nTo add an App to your website project, add this command.\\n\\npython3 manage.py startapp homepage\\n\\nNow we have another folder inside the website called homepage. It has some files:\\n\\n__init__.py admin.py: we will use this file very soon when we will have our database ready. apps.py: this file has our App name defined. Our case its homepage. models.py: VERY IMPORTANT file. We will use this to defined our database. We will discuss this later in detail. tests.py: to right our tests. We will use it later as well. views.py: VERY IMPORTANT file. We will define our views here.\\n\\nAs you see we have 3 VERY IMPORTANT files, they when combine called MVC. Model View Controller. In the next lesson, we will learn more about MVC.\\n\\nEnough of talking, now time to see some magic. I am using Visual Studio Code here, you can use any, ATOM, PyCharm, etc. Open your views.py file and type this code.\\n\\nwebsite/homepage/views.py\\n\\nfrom django.http import HttpResponse def index(request):\\n\\nreturn HttpResponse(\"welcome to my website\")\\n\\ncreate a urls.py inside homepage\\n\\nwebsite/homepage/urls.py\\n\\nfrom django.contrib import admin from django.urls import path from homepage import views urlpatterns = [path(\\'\\', views.index, name = \\'index\\'),]\\n\\nNow open website/urls.py\\n\\nfrom django.contrib import admin\\n\\nfrom django.urls import path, include urlpatterns = [\\n\\npath(\\'admin/\\', admin.site.urls),\\n\\npath(\\'\\', include(\\'homepage.urls\\'))\\n\\n]\\n\\nyour views.py file, website/homepage/urls.py, website/urls.py should be updated. Now run the following command:\\n\\npython3 manage.py runserver\\n\\nGo to 127.0.0.1:8000\\n\\nwoohoo, you can see your handwritten message:\\n\\ngo to 127.0.0.1:8000\\n\\nwell, your 1st lesson ends here. Next time, we will dive into the other basics of Django and will proceed slowly towards complexity.\\n\\nTill then, goodbye :)\\n\\nA note from Plain English\\n\\nDid you know that we have launched a YouTube channel? Every video we make will aim to teach you something new. Check us out by clicking here, and be sure to subscribe to the channel 😎',\n",
       " 'how to create a website in seven lines of python code.\\n\\nAnd here is how to do it:\\n\\nOpen your favorite Python IDE open terminal Then you have to install flask library using the command “pip install flask”\\n\\nand here’s the code :\\n\\n5. You can run this code and Your website will be hosted on your local host .\\n\\n6. You can also add Additional Page if you want , Just like this :\\n\\n7. That’s it You can host your website now .',\n",
       " 'How to Create a Simple Django Web App With Python.\\n\\nGetting Started With Django\\n\\nIdeally, you have already installed Python on your device. If you have not yet done this, then you can go to Python’s official website to download the latest version. To check if you are running the latest version of Python, you can run the following command in your terminal/command line:\\n\\n$ python\\n\\nIt would help if you ended up with something similar to this:\\n\\nPython\\n\\n[GCC 4.x] on linux\\n\\nType \"help\", \"copyright\", \"credits\" or \"license\" for more information.\\n\\n>>>\\n\\nTo install Django, you need the Python package manager pip. You can download it on the PIP website. When you have a stable installation of pip on your device, you need to install Django by using the following command:\\n\\n$ python -m pip install Django\\n\\nNow Django will be installed to Python. To verify that you have installed Django successfully, open up the Python terminal and import Django:\\n\\n$ Python\\n\\n>>> import django\\n\\n>>> print(django.get_version())\\n\\nAnd as I am running version 3.1, I will get the following output:',\n",
       " 'Web Hosting using Python\\n\\nPython is a general purpose, high level programming language with increasing audience and most popular in the field of Data Science due to its packages available for Machine Learning and Deep Learning, however Python has some packages that are very useful in the field of web development. Flask is one such Python package used to host websites.\\n\\nWhat can Flask do???\\n\\nHost a/group of html templates on a local server. Integrate your website with CSS/JS and Databases.\\n\\nWhat Flask can’t do???\\n\\nWrite the Website for you.\\n\\nWhile it is true that you can basically do anything using Python, the most common way to develop websites is still HTML/CSS and JS. Flask can only render the HTML code in the Python application, it can not enable you to create a website using Python (traditionally at least).\\n\\nAfter having a brief idea about Flask, lets start using Flask by creating a Hello World page and hosting it using Flask.\\n\\nInstall the dependencies\\n\\nFirst things first, we will install the dependencies that will enable us to run flask on our local computer.\\n\\nYou need to have Python and Pip on your system. To install Python go to your terminal and write:\\n\\n2. After you have Python installed, you need to get pip. Pip is a package manager that would enable us to install Flask. To install pip, go to your terminal and type.\\n\\n3. After having Python and Pip installed on our system, we need to get Flask. To do this, go to the terminal and execute the command\\n\\nLet’s start Coding!!!!\\n\\nOnce we have all the dependencies set up, we are ready to make our first flask application. We will start by making a really basic application that will greet us with ‘Hello World’ on the homepage.\\n\\nThis 10 lines of code is enough to get you started with your first Hello World Flask application. We will have a detailed look at the code later in this article. For now let’s run the application.\\n\\nRunning the Flask Application\\n\\nTo run the application, go to the folder containing the Python file via terminal and execute:\\n\\nNote: Here, the name of my file is 1.py. Your file can have a different name than mine.\\n\\n2. Once you execute the command, your terminal should look something like this:\\n\\n3. This tells us that the flask application is running successfully. The default port for flask is 5000. So to check the website you need to go to\\n\\nlocalhost:5000. In your browser tab type localhost:5000 and you will see your application running.\\n\\nCongrats, you have successfully created your first flask application.\\n\\nLet’s take a detailed look at the code.\\n\\n1.\\n\\nThis is used to import the Flask module that we downloaded earlier in our Python file.\\n\\n2.\\n\\nThis line defines app as the flask application. The __name__ argument in the Flask is used to help determine Flask the route of the file.\\n\\n3.\\n\\n@app.route is used to determine the structure of the web application i.e how different links will the structured in the web application. Here (‘/’) is used to determine the homepage of our web application. A web application having multiple pages will have multiple different routes.\\n\\nLine 5 is the function that gets executed once the user reaches the page mentioned in @app.route (the homepage in our case).\\n\\nLine 6 is the content of the index function. It is the body of our web page and is reflected by the return statement.\\n\\n4.\\n\\nLine 9 is like dependencies in Flask and are always included in every Flask application, if the application is being run on your server locally. This line of code ensures that the server runs only if this application is being run directly and not using any import statements.\\n\\nLine 10 actually runs the application once it is created, hence these 2 lines always go to the bottom of the page. debug is an argument for app.run. This enables us to make changes to the HTML/CSS or the Flask application without restarting the server to see the results. This is usually used in development phase to make things easier for developers.\\n\\nThanks for Reading\\n\\nIn the coming publications we will cover how to add CSS/HTML/JS to your flask application and how to connect our application to a SQL Database.\\n\\nPlease comment your views about the publication in the comment box.',\n",
       " 'How to Create a Simple Django Web App With Python.\\n\\nGetting Started With Django\\n\\nIdeally, you have already installed Python on your device. If you have not yet done this, then you can go to Python’s official website to download the latest version. To check if you are running the latest version of Python, you can run the following command in your terminal/command line:\\n\\n$ python\\n\\nIt would help if you ended up with something similar to this:\\n\\nPython\\n\\n[GCC 4.x] on linux\\n\\nType \"help\", \"copyright\", \"credits\" or \"license\" for more information.\\n\\n>>>\\n\\nTo install Django, you need the Python package manager pip. You can download it on the PIP website. When you have a stable installation of pip on your device, you need to install Django by using the following command:\\n\\n$ python -m pip install Django\\n\\nNow Django will be installed to Python. To verify that you have installed Django successfully, open up the Python terminal and import Django:\\n\\n$ Python\\n\\n>>> import django\\n\\n>>> print(django.get_version())\\n\\nAnd as I am running version 3.1, I will get the following output:']"
      ]
     },
     "execution_count": 136,
     "metadata": {},
     "output_type": "execute_result"
    }
   ],
   "source": [
    "retrieved_articles_text"
   ]
  },
  {
   "cell_type": "code",
   "execution_count": 137,
   "metadata": {},
   "outputs": [],
   "source": [
    "model_inputs = [[query, text] for text in retrieved_articles_text]"
   ]
  },
  {
   "cell_type": "code",
   "execution_count": 31,
   "metadata": {},
   "outputs": [],
   "source": [
    "# model_inputs"
   ]
  },
  {
   "cell_type": "code",
   "execution_count": 138,
   "metadata": {},
   "outputs": [],
   "source": [
    "scores = cross_encoder.predict(model_inputs)"
   ]
  },
  {
   "cell_type": "code",
   "execution_count": 139,
   "metadata": {},
   "outputs": [],
   "source": [
    "# Sort the scores in decreasing order\n",
    "results = [{\"input\": inp, \"score\": score} for inp, score in zip(model_inputs, scores)]\n",
    "results = sorted(results, key=lambda x: x[\"score\"], reverse=True)"
   ]
  },
  {
   "cell_type": "code",
   "execution_count": 146,
   "metadata": {},
   "outputs": [],
   "source": [
    "results_re_ranking = [{\"query\": inp[0], \"text\": inp[1], \"score\": score} for inp, score in zip(model_inputs, scores)]"
   ]
  },
  {
   "cell_type": "code",
   "execution_count": 148,
   "metadata": {},
   "outputs": [],
   "source": [
    "results_re_ranking_df = pd.DataFrame.from_dict(results_re_ranking)"
   ]
  },
  {
   "cell_type": "code",
   "execution_count": 161,
   "metadata": {},
   "outputs": [
    {
     "data": {
      "text/plain": [
       "Index(['query', 'text', 'score'], dtype='object')"
      ]
     },
     "execution_count": 161,
     "metadata": {},
     "output_type": "execute_result"
    }
   ],
   "source": [
    "results_re_ranking_df.columns"
   ]
  },
  {
   "cell_type": "code",
   "execution_count": 164,
   "metadata": {},
   "outputs": [],
   "source": [
    "results_re_ranking_df.rename(columns={\"text\": \"full_text\"}, inplace=True)"
   ]
  },
  {
   "cell_type": "code",
   "execution_count": 166,
   "metadata": {},
   "outputs": [],
   "source": [
    "df_retrieved_data_merged = df_retrieved_data.merge(results_re_ranking_df, on='full_text')"
   ]
  },
  {
   "cell_type": "code",
   "execution_count": 170,
   "metadata": {},
   "outputs": [
    {
     "data": {
      "text/html": [
       "<div>\n",
       "<style scoped>\n",
       "    .dataframe tbody tr th:only-of-type {\n",
       "        vertical-align: middle;\n",
       "    }\n",
       "\n",
       "    .dataframe tbody tr th {\n",
       "        vertical-align: top;\n",
       "    }\n",
       "\n",
       "    .dataframe thead th {\n",
       "        text-align: right;\n",
       "    }\n",
       "</style>\n",
       "<table border=\"1\" class=\"dataframe\">\n",
       "  <thead>\n",
       "    <tr style=\"text-align: right;\">\n",
       "      <th></th>\n",
       "      <th>title</th>\n",
       "      <th>url</th>\n",
       "      <th>tags</th>\n",
       "      <th>full_text</th>\n",
       "      <th>sentence_embeddings</th>\n",
       "      <th>id</th>\n",
       "      <th>query</th>\n",
       "      <th>score</th>\n",
       "    </tr>\n",
       "  </thead>\n",
       "  <tbody>\n",
       "    <tr>\n",
       "      <th>0</th>\n",
       "      <td>Basic application with Django</td>\n",
       "      <td>https://medium.com/datadriveninvestor/basic-ap...</td>\n",
       "      <td>['Software', 'Python', 'Web Development', 'Dja...</td>\n",
       "      <td>Basic application with Django\\n\\nFinally we go...</td>\n",
       "      <td>[0.055158913135528564, -0.004764148499816656, ...</td>\n",
       "      <td>8240</td>\n",
       "      <td>How to use python to create a web application</td>\n",
       "      <td>5.973814</td>\n",
       "    </tr>\n",
       "    <tr>\n",
       "      <th>1</th>\n",
       "      <td>Getting Started With Flask — Python Framework</td>\n",
       "      <td>https://medium.com/@1303karthick/getting-start...</td>\n",
       "      <td>['Web Development', 'Flask Framework', 'Gettin...</td>\n",
       "      <td>Getting Started With Flask — Python Framework\\...</td>\n",
       "      <td>[0.05524623394012451, 0.011870672926306725, 0....</td>\n",
       "      <td>21827</td>\n",
       "      <td>How to use python to create a web application</td>\n",
       "      <td>1.133836</td>\n",
       "    </tr>\n",
       "    <tr>\n",
       "      <th>2</th>\n",
       "      <td>Flask Tutorial Python — Basics of The Flask Fr...</td>\n",
       "      <td>https://medium.com/@p4p3rb0y1/flask-tutorial-p...</td>\n",
       "      <td>['Python Programming', 'Flask Framework', 'Pyt...</td>\n",
       "      <td>Flask Tutorial Python — Basics of The Flask Fr...</td>\n",
       "      <td>[0.05366446077823639, 0.005391155369579792, 0....</td>\n",
       "      <td>38143</td>\n",
       "      <td>How to use python to create a web application</td>\n",
       "      <td>3.802685</td>\n",
       "    </tr>\n",
       "    <tr>\n",
       "      <th>3</th>\n",
       "      <td>Your First website with Flask</td>\n",
       "      <td>https://medium.com/@nitis3211/your-first-websi...</td>\n",
       "      <td>['Website', 'Pyth', 'Python Framework', 'Flask']</td>\n",
       "      <td>Your First website with Flask\\n\\nFlask is one ...</td>\n",
       "      <td>[0.09390280395746231, -0.023226771503686905, 0...</td>\n",
       "      <td>53842</td>\n",
       "      <td>How to use python to create a web application</td>\n",
       "      <td>1.786698</td>\n",
       "    </tr>\n",
       "    <tr>\n",
       "      <th>4</th>\n",
       "      <td>What exactly can you do with Python? Here are ...</td>\n",
       "      <td>https://towardsdatascience.com/what-can-you-do...</td>\n",
       "      <td>['Data Science', 'Python', 'Programming', 'Web...</td>\n",
       "      <td>What exactly can you do with Python? Here are ...</td>\n",
       "      <td>[0.03987741097807884, 0.03799786791205406, 0.0...</td>\n",
       "      <td>62018</td>\n",
       "      <td>How to use python to create a web application</td>\n",
       "      <td>5.110482</td>\n",
       "    </tr>\n",
       "    <tr>\n",
       "      <th>5</th>\n",
       "      <td>Web Development in Python: Lesson 1</td>\n",
       "      <td>https://medium.com/python-in-plain-english/web...</td>\n",
       "      <td>['Programming', 'Coding', 'Python', 'Django', ...</td>\n",
       "      <td>Web Development in Python: Lesson 1\\n\\nA quick...</td>\n",
       "      <td>[0.03741590306162834, -0.007534318137913942, 0...</td>\n",
       "      <td>64395</td>\n",
       "      <td>How to use python to create a web application</td>\n",
       "      <td>6.223163</td>\n",
       "    </tr>\n",
       "    <tr>\n",
       "      <th>6</th>\n",
       "      <td>how to create a website in seven lines of pyth...</td>\n",
       "      <td>https://medium.com/@jyothiradityak/how-to-crea...</td>\n",
       "      <td>['Python Project Ideas', 'Python Website', 'Py...</td>\n",
       "      <td>how to create a website in seven lines of pyth...</td>\n",
       "      <td>[0.07365156710147858, -0.029248660430312157, 0...</td>\n",
       "      <td>65351</td>\n",
       "      <td>How to use python to create a web application</td>\n",
       "      <td>7.766557</td>\n",
       "    </tr>\n",
       "    <tr>\n",
       "      <th>7</th>\n",
       "      <td>How to Create a Simple Django Web App With Pyt...</td>\n",
       "      <td>https://medium.com/better-programming/how-to-c...</td>\n",
       "      <td>['Python', 'Programming', 'Python3', 'Software...</td>\n",
       "      <td>How to Create a Simple Django Web App With Pyt...</td>\n",
       "      <td>[0.023062171414494514, 0.01495151873677969, 0....</td>\n",
       "      <td>66840</td>\n",
       "      <td>How to use python to create a web application</td>\n",
       "      <td>6.463696</td>\n",
       "    </tr>\n",
       "    <tr>\n",
       "      <th>8</th>\n",
       "      <td>How to Create a Simple Django Web App With Pyt...</td>\n",
       "      <td>https://medium.com/better-programming/how-to-c...</td>\n",
       "      <td>['Python', 'Programming', 'Python3', 'Software...</td>\n",
       "      <td>How to Create a Simple Django Web App With Pyt...</td>\n",
       "      <td>[0.023062171414494514, 0.01495151873677969, 0....</td>\n",
       "      <td>66840</td>\n",
       "      <td>How to use python to create a web application</td>\n",
       "      <td>6.463696</td>\n",
       "    </tr>\n",
       "    <tr>\n",
       "      <th>9</th>\n",
       "      <td>How to Create a Simple Django Web App With Pyt...</td>\n",
       "      <td>https://betterprogramming.pub/how-to-create-a-...</td>\n",
       "      <td>['Programming', 'Django', 'Python3', 'Python',...</td>\n",
       "      <td>How to Create a Simple Django Web App With Pyt...</td>\n",
       "      <td>[0.023062171414494514, 0.01495151873677969, 0....</td>\n",
       "      <td>98111</td>\n",
       "      <td>How to use python to create a web application</td>\n",
       "      <td>6.463696</td>\n",
       "    </tr>\n",
       "    <tr>\n",
       "      <th>10</th>\n",
       "      <td>How to Create a Simple Django Web App With Pyt...</td>\n",
       "      <td>https://betterprogramming.pub/how-to-create-a-...</td>\n",
       "      <td>['Programming', 'Django', 'Python3', 'Python',...</td>\n",
       "      <td>How to Create a Simple Django Web App With Pyt...</td>\n",
       "      <td>[0.023062171414494514, 0.01495151873677969, 0....</td>\n",
       "      <td>98111</td>\n",
       "      <td>How to use python to create a web application</td>\n",
       "      <td>6.463696</td>\n",
       "    </tr>\n",
       "    <tr>\n",
       "      <th>11</th>\n",
       "      <td>Web Hosting using Python</td>\n",
       "      <td>https://medium.com/datadriveninvestor/web-host...</td>\n",
       "      <td>['Flask', 'Python', 'HTML']</td>\n",
       "      <td>Web Hosting using Python\\n\\nPython is a genera...</td>\n",
       "      <td>[0.06282086670398712, -0.017523471266031265, 0...</td>\n",
       "      <td>86007</td>\n",
       "      <td>How to use python to create a web application</td>\n",
       "      <td>5.588793</td>\n",
       "    </tr>\n",
       "  </tbody>\n",
       "</table>\n",
       "</div>"
      ],
      "text/plain": [
       "                                                title  \\\n",
       "0                       Basic application with Django   \n",
       "1       Getting Started With Flask — Python Framework   \n",
       "2   Flask Tutorial Python — Basics of The Flask Fr...   \n",
       "3                       Your First website with Flask   \n",
       "4   What exactly can you do with Python? Here are ...   \n",
       "5                 Web Development in Python: Lesson 1   \n",
       "6   how to create a website in seven lines of pyth...   \n",
       "7   How to Create a Simple Django Web App With Pyt...   \n",
       "8   How to Create a Simple Django Web App With Pyt...   \n",
       "9   How to Create a Simple Django Web App With Pyt...   \n",
       "10  How to Create a Simple Django Web App With Pyt...   \n",
       "11                           Web Hosting using Python   \n",
       "\n",
       "                                                  url  \\\n",
       "0   https://medium.com/datadriveninvestor/basic-ap...   \n",
       "1   https://medium.com/@1303karthick/getting-start...   \n",
       "2   https://medium.com/@p4p3rb0y1/flask-tutorial-p...   \n",
       "3   https://medium.com/@nitis3211/your-first-websi...   \n",
       "4   https://towardsdatascience.com/what-can-you-do...   \n",
       "5   https://medium.com/python-in-plain-english/web...   \n",
       "6   https://medium.com/@jyothiradityak/how-to-crea...   \n",
       "7   https://medium.com/better-programming/how-to-c...   \n",
       "8   https://medium.com/better-programming/how-to-c...   \n",
       "9   https://betterprogramming.pub/how-to-create-a-...   \n",
       "10  https://betterprogramming.pub/how-to-create-a-...   \n",
       "11  https://medium.com/datadriveninvestor/web-host...   \n",
       "\n",
       "                                                 tags  \\\n",
       "0   ['Software', 'Python', 'Web Development', 'Dja...   \n",
       "1   ['Web Development', 'Flask Framework', 'Gettin...   \n",
       "2   ['Python Programming', 'Flask Framework', 'Pyt...   \n",
       "3    ['Website', 'Pyth', 'Python Framework', 'Flask']   \n",
       "4   ['Data Science', 'Python', 'Programming', 'Web...   \n",
       "5   ['Programming', 'Coding', 'Python', 'Django', ...   \n",
       "6   ['Python Project Ideas', 'Python Website', 'Py...   \n",
       "7   ['Python', 'Programming', 'Python3', 'Software...   \n",
       "8   ['Python', 'Programming', 'Python3', 'Software...   \n",
       "9   ['Programming', 'Django', 'Python3', 'Python',...   \n",
       "10  ['Programming', 'Django', 'Python3', 'Python',...   \n",
       "11                        ['Flask', 'Python', 'HTML']   \n",
       "\n",
       "                                            full_text  \\\n",
       "0   Basic application with Django\\n\\nFinally we go...   \n",
       "1   Getting Started With Flask — Python Framework\\...   \n",
       "2   Flask Tutorial Python — Basics of The Flask Fr...   \n",
       "3   Your First website with Flask\\n\\nFlask is one ...   \n",
       "4   What exactly can you do with Python? Here are ...   \n",
       "5   Web Development in Python: Lesson 1\\n\\nA quick...   \n",
       "6   how to create a website in seven lines of pyth...   \n",
       "7   How to Create a Simple Django Web App With Pyt...   \n",
       "8   How to Create a Simple Django Web App With Pyt...   \n",
       "9   How to Create a Simple Django Web App With Pyt...   \n",
       "10  How to Create a Simple Django Web App With Pyt...   \n",
       "11  Web Hosting using Python\\n\\nPython is a genera...   \n",
       "\n",
       "                                  sentence_embeddings     id  \\\n",
       "0   [0.055158913135528564, -0.004764148499816656, ...   8240   \n",
       "1   [0.05524623394012451, 0.011870672926306725, 0....  21827   \n",
       "2   [0.05366446077823639, 0.005391155369579792, 0....  38143   \n",
       "3   [0.09390280395746231, -0.023226771503686905, 0...  53842   \n",
       "4   [0.03987741097807884, 0.03799786791205406, 0.0...  62018   \n",
       "5   [0.03741590306162834, -0.007534318137913942, 0...  64395   \n",
       "6   [0.07365156710147858, -0.029248660430312157, 0...  65351   \n",
       "7   [0.023062171414494514, 0.01495151873677969, 0....  66840   \n",
       "8   [0.023062171414494514, 0.01495151873677969, 0....  66840   \n",
       "9   [0.023062171414494514, 0.01495151873677969, 0....  98111   \n",
       "10  [0.023062171414494514, 0.01495151873677969, 0....  98111   \n",
       "11  [0.06282086670398712, -0.017523471266031265, 0...  86007   \n",
       "\n",
       "                                            query     score  \n",
       "0   How to use python to create a web application  5.973814  \n",
       "1   How to use python to create a web application  1.133836  \n",
       "2   How to use python to create a web application  3.802685  \n",
       "3   How to use python to create a web application  1.786698  \n",
       "4   How to use python to create a web application  5.110482  \n",
       "5   How to use python to create a web application  6.223163  \n",
       "6   How to use python to create a web application  7.766557  \n",
       "7   How to use python to create a web application  6.463696  \n",
       "8   How to use python to create a web application  6.463696  \n",
       "9   How to use python to create a web application  6.463696  \n",
       "10  How to use python to create a web application  6.463696  \n",
       "11  How to use python to create a web application  5.588793  "
      ]
     },
     "execution_count": 170,
     "metadata": {},
     "output_type": "execute_result"
    }
   ],
   "source": [
    "df_retrieved_data_merged"
   ]
  },
  {
   "cell_type": "code",
   "execution_count": 175,
   "metadata": {},
   "outputs": [],
   "source": [
    "df_retrieved_data_merged.drop(columns=['sentence_embeddings', 'query', 'full_text'], axis=1, inplace=True)"
   ]
  },
  {
   "cell_type": "code",
   "execution_count": 176,
   "metadata": {},
   "outputs": [
    {
     "data": {
      "text/html": [
       "<div>\n",
       "<style scoped>\n",
       "    .dataframe tbody tr th:only-of-type {\n",
       "        vertical-align: middle;\n",
       "    }\n",
       "\n",
       "    .dataframe tbody tr th {\n",
       "        vertical-align: top;\n",
       "    }\n",
       "\n",
       "    .dataframe thead th {\n",
       "        text-align: right;\n",
       "    }\n",
       "</style>\n",
       "<table border=\"1\" class=\"dataframe\">\n",
       "  <thead>\n",
       "    <tr style=\"text-align: right;\">\n",
       "      <th></th>\n",
       "      <th>title</th>\n",
       "      <th>url</th>\n",
       "      <th>tags</th>\n",
       "      <th>id</th>\n",
       "      <th>score</th>\n",
       "    </tr>\n",
       "  </thead>\n",
       "  <tbody>\n",
       "    <tr>\n",
       "      <th>0</th>\n",
       "      <td>Basic application with Django</td>\n",
       "      <td>https://medium.com/datadriveninvestor/basic-ap...</td>\n",
       "      <td>['Software', 'Python', 'Web Development', 'Dja...</td>\n",
       "      <td>8240</td>\n",
       "      <td>5.973814</td>\n",
       "    </tr>\n",
       "    <tr>\n",
       "      <th>1</th>\n",
       "      <td>Getting Started With Flask — Python Framework</td>\n",
       "      <td>https://medium.com/@1303karthick/getting-start...</td>\n",
       "      <td>['Web Development', 'Flask Framework', 'Gettin...</td>\n",
       "      <td>21827</td>\n",
       "      <td>1.133836</td>\n",
       "    </tr>\n",
       "    <tr>\n",
       "      <th>2</th>\n",
       "      <td>Flask Tutorial Python — Basics of The Flask Fr...</td>\n",
       "      <td>https://medium.com/@p4p3rb0y1/flask-tutorial-p...</td>\n",
       "      <td>['Python Programming', 'Flask Framework', 'Pyt...</td>\n",
       "      <td>38143</td>\n",
       "      <td>3.802685</td>\n",
       "    </tr>\n",
       "    <tr>\n",
       "      <th>3</th>\n",
       "      <td>Your First website with Flask</td>\n",
       "      <td>https://medium.com/@nitis3211/your-first-websi...</td>\n",
       "      <td>['Website', 'Pyth', 'Python Framework', 'Flask']</td>\n",
       "      <td>53842</td>\n",
       "      <td>1.786698</td>\n",
       "    </tr>\n",
       "    <tr>\n",
       "      <th>4</th>\n",
       "      <td>What exactly can you do with Python? Here are ...</td>\n",
       "      <td>https://towardsdatascience.com/what-can-you-do...</td>\n",
       "      <td>['Data Science', 'Python', 'Programming', 'Web...</td>\n",
       "      <td>62018</td>\n",
       "      <td>5.110482</td>\n",
       "    </tr>\n",
       "    <tr>\n",
       "      <th>5</th>\n",
       "      <td>Web Development in Python: Lesson 1</td>\n",
       "      <td>https://medium.com/python-in-plain-english/web...</td>\n",
       "      <td>['Programming', 'Coding', 'Python', 'Django', ...</td>\n",
       "      <td>64395</td>\n",
       "      <td>6.223163</td>\n",
       "    </tr>\n",
       "    <tr>\n",
       "      <th>6</th>\n",
       "      <td>how to create a website in seven lines of pyth...</td>\n",
       "      <td>https://medium.com/@jyothiradityak/how-to-crea...</td>\n",
       "      <td>['Python Project Ideas', 'Python Website', 'Py...</td>\n",
       "      <td>65351</td>\n",
       "      <td>7.766557</td>\n",
       "    </tr>\n",
       "    <tr>\n",
       "      <th>7</th>\n",
       "      <td>How to Create a Simple Django Web App With Pyt...</td>\n",
       "      <td>https://medium.com/better-programming/how-to-c...</td>\n",
       "      <td>['Python', 'Programming', 'Python3', 'Software...</td>\n",
       "      <td>66840</td>\n",
       "      <td>6.463696</td>\n",
       "    </tr>\n",
       "    <tr>\n",
       "      <th>8</th>\n",
       "      <td>How to Create a Simple Django Web App With Pyt...</td>\n",
       "      <td>https://medium.com/better-programming/how-to-c...</td>\n",
       "      <td>['Python', 'Programming', 'Python3', 'Software...</td>\n",
       "      <td>66840</td>\n",
       "      <td>6.463696</td>\n",
       "    </tr>\n",
       "    <tr>\n",
       "      <th>9</th>\n",
       "      <td>How to Create a Simple Django Web App With Pyt...</td>\n",
       "      <td>https://betterprogramming.pub/how-to-create-a-...</td>\n",
       "      <td>['Programming', 'Django', 'Python3', 'Python',...</td>\n",
       "      <td>98111</td>\n",
       "      <td>6.463696</td>\n",
       "    </tr>\n",
       "    <tr>\n",
       "      <th>10</th>\n",
       "      <td>How to Create a Simple Django Web App With Pyt...</td>\n",
       "      <td>https://betterprogramming.pub/how-to-create-a-...</td>\n",
       "      <td>['Programming', 'Django', 'Python3', 'Python',...</td>\n",
       "      <td>98111</td>\n",
       "      <td>6.463696</td>\n",
       "    </tr>\n",
       "    <tr>\n",
       "      <th>11</th>\n",
       "      <td>Web Hosting using Python</td>\n",
       "      <td>https://medium.com/datadriveninvestor/web-host...</td>\n",
       "      <td>['Flask', 'Python', 'HTML']</td>\n",
       "      <td>86007</td>\n",
       "      <td>5.588793</td>\n",
       "    </tr>\n",
       "  </tbody>\n",
       "</table>\n",
       "</div>"
      ],
      "text/plain": [
       "                                                title  \\\n",
       "0                       Basic application with Django   \n",
       "1       Getting Started With Flask — Python Framework   \n",
       "2   Flask Tutorial Python — Basics of The Flask Fr...   \n",
       "3                       Your First website with Flask   \n",
       "4   What exactly can you do with Python? Here are ...   \n",
       "5                 Web Development in Python: Lesson 1   \n",
       "6   how to create a website in seven lines of pyth...   \n",
       "7   How to Create a Simple Django Web App With Pyt...   \n",
       "8   How to Create a Simple Django Web App With Pyt...   \n",
       "9   How to Create a Simple Django Web App With Pyt...   \n",
       "10  How to Create a Simple Django Web App With Pyt...   \n",
       "11                           Web Hosting using Python   \n",
       "\n",
       "                                                  url  \\\n",
       "0   https://medium.com/datadriveninvestor/basic-ap...   \n",
       "1   https://medium.com/@1303karthick/getting-start...   \n",
       "2   https://medium.com/@p4p3rb0y1/flask-tutorial-p...   \n",
       "3   https://medium.com/@nitis3211/your-first-websi...   \n",
       "4   https://towardsdatascience.com/what-can-you-do...   \n",
       "5   https://medium.com/python-in-plain-english/web...   \n",
       "6   https://medium.com/@jyothiradityak/how-to-crea...   \n",
       "7   https://medium.com/better-programming/how-to-c...   \n",
       "8   https://medium.com/better-programming/how-to-c...   \n",
       "9   https://betterprogramming.pub/how-to-create-a-...   \n",
       "10  https://betterprogramming.pub/how-to-create-a-...   \n",
       "11  https://medium.com/datadriveninvestor/web-host...   \n",
       "\n",
       "                                                 tags     id     score  \n",
       "0   ['Software', 'Python', 'Web Development', 'Dja...   8240  5.973814  \n",
       "1   ['Web Development', 'Flask Framework', 'Gettin...  21827  1.133836  \n",
       "2   ['Python Programming', 'Flask Framework', 'Pyt...  38143  3.802685  \n",
       "3    ['Website', 'Pyth', 'Python Framework', 'Flask']  53842  1.786698  \n",
       "4   ['Data Science', 'Python', 'Programming', 'Web...  62018  5.110482  \n",
       "5   ['Programming', 'Coding', 'Python', 'Django', ...  64395  6.223163  \n",
       "6   ['Python Project Ideas', 'Python Website', 'Py...  65351  7.766557  \n",
       "7   ['Python', 'Programming', 'Python3', 'Software...  66840  6.463696  \n",
       "8   ['Python', 'Programming', 'Python3', 'Software...  66840  6.463696  \n",
       "9   ['Programming', 'Django', 'Python3', 'Python',...  98111  6.463696  \n",
       "10  ['Programming', 'Django', 'Python3', 'Python',...  98111  6.463696  \n",
       "11                        ['Flask', 'Python', 'HTML']  86007  5.588793  "
      ]
     },
     "execution_count": 176,
     "metadata": {},
     "output_type": "execute_result"
    }
   ],
   "source": [
    "df_retrieved_data_merged"
   ]
  },
  {
   "cell_type": "markdown",
   "metadata": {},
   "source": [
    "#### Comparing results obtained"
   ]
  },
  {
   "cell_type": "code",
   "execution_count": 178,
   "metadata": {},
   "outputs": [
    {
     "data": {
      "text/html": [
       "<div>\n",
       "<style scoped>\n",
       "    .dataframe tbody tr th:only-of-type {\n",
       "        vertical-align: middle;\n",
       "    }\n",
       "\n",
       "    .dataframe tbody tr th {\n",
       "        vertical-align: top;\n",
       "    }\n",
       "\n",
       "    .dataframe thead th {\n",
       "        text-align: right;\n",
       "    }\n",
       "</style>\n",
       "<table border=\"1\" class=\"dataframe\">\n",
       "  <thead>\n",
       "    <tr style=\"text-align: right;\">\n",
       "      <th></th>\n",
       "      <th>ids</th>\n",
       "      <th>distances</th>\n",
       "      <th>tags</th>\n",
       "      <th>titles</th>\n",
       "      <th>urls</th>\n",
       "    </tr>\n",
       "  </thead>\n",
       "  <tbody>\n",
       "    <tr>\n",
       "      <th>0</th>\n",
       "      <td>86007</td>\n",
       "      <td>0.268111</td>\n",
       "      <td>['Flask', 'Python', 'HTML']</td>\n",
       "      <td>Web Hosting using Python</td>\n",
       "      <td>https://medium.com/datadriveninvestor/web-host...</td>\n",
       "    </tr>\n",
       "    <tr>\n",
       "      <th>1</th>\n",
       "      <td>65351</td>\n",
       "      <td>0.278562</td>\n",
       "      <td>['Python Project Ideas', 'Python Website', 'Py...</td>\n",
       "      <td>how to create a website in seven lines of pyth...</td>\n",
       "      <td>https://medium.com/@jyothiradityak/how-to-crea...</td>\n",
       "    </tr>\n",
       "    <tr>\n",
       "      <th>2</th>\n",
       "      <td>8240</td>\n",
       "      <td>0.337513</td>\n",
       "      <td>['Software', 'Python', 'Web Development', 'Dja...</td>\n",
       "      <td>Basic application with Django</td>\n",
       "      <td>https://medium.com/datadriveninvestor/basic-ap...</td>\n",
       "    </tr>\n",
       "    <tr>\n",
       "      <th>3</th>\n",
       "      <td>64395</td>\n",
       "      <td>0.349885</td>\n",
       "      <td>['Programming', 'Coding', 'Python', 'Django', ...</td>\n",
       "      <td>Web Development in Python: Lesson 1</td>\n",
       "      <td>https://medium.com/python-in-plain-english/web...</td>\n",
       "    </tr>\n",
       "    <tr>\n",
       "      <th>4</th>\n",
       "      <td>62018</td>\n",
       "      <td>0.353386</td>\n",
       "      <td>['Data Science', 'Python', 'Programming', 'Web...</td>\n",
       "      <td>What exactly can you do with Python? Here are ...</td>\n",
       "      <td>https://towardsdatascience.com/what-can-you-do...</td>\n",
       "    </tr>\n",
       "    <tr>\n",
       "      <th>5</th>\n",
       "      <td>38143</td>\n",
       "      <td>0.367358</td>\n",
       "      <td>['Python Programming', 'Flask Framework', 'Pyt...</td>\n",
       "      <td>Flask Tutorial Python — Basics of The Flask Fr...</td>\n",
       "      <td>https://medium.com/@p4p3rb0y1/flask-tutorial-p...</td>\n",
       "    </tr>\n",
       "    <tr>\n",
       "      <th>6</th>\n",
       "      <td>53842</td>\n",
       "      <td>0.376031</td>\n",
       "      <td>['Website', 'Pyth', 'Python Framework', 'Flask']</td>\n",
       "      <td>Your First website with Flask</td>\n",
       "      <td>https://medium.com/@nitis3211/your-first-websi...</td>\n",
       "    </tr>\n",
       "    <tr>\n",
       "      <th>7</th>\n",
       "      <td>21827</td>\n",
       "      <td>0.380803</td>\n",
       "      <td>['Web Development', 'Flask Framework', 'Gettin...</td>\n",
       "      <td>Getting Started With Flask — Python Framework</td>\n",
       "      <td>https://medium.com/@1303karthick/getting-start...</td>\n",
       "    </tr>\n",
       "    <tr>\n",
       "      <th>8</th>\n",
       "      <td>66840</td>\n",
       "      <td>0.384633</td>\n",
       "      <td>['Python', 'Programming', 'Python3', 'Software...</td>\n",
       "      <td>How to Create a Simple Django Web App With Pyt...</td>\n",
       "      <td>https://medium.com/better-programming/how-to-c...</td>\n",
       "    </tr>\n",
       "    <tr>\n",
       "      <th>9</th>\n",
       "      <td>98111</td>\n",
       "      <td>0.384633</td>\n",
       "      <td>['Programming', 'Django', 'Python3', 'Python',...</td>\n",
       "      <td>How to Create a Simple Django Web App With Pyt...</td>\n",
       "      <td>https://betterprogramming.pub/how-to-create-a-...</td>\n",
       "    </tr>\n",
       "  </tbody>\n",
       "</table>\n",
       "</div>"
      ],
      "text/plain": [
       "     ids  distances                                               tags  \\\n",
       "0  86007   0.268111                        ['Flask', 'Python', 'HTML']   \n",
       "1  65351   0.278562  ['Python Project Ideas', 'Python Website', 'Py...   \n",
       "2   8240   0.337513  ['Software', 'Python', 'Web Development', 'Dja...   \n",
       "3  64395   0.349885  ['Programming', 'Coding', 'Python', 'Django', ...   \n",
       "4  62018   0.353386  ['Data Science', 'Python', 'Programming', 'Web...   \n",
       "5  38143   0.367358  ['Python Programming', 'Flask Framework', 'Pyt...   \n",
       "6  53842   0.376031   ['Website', 'Pyth', 'Python Framework', 'Flask']   \n",
       "7  21827   0.380803  ['Web Development', 'Flask Framework', 'Gettin...   \n",
       "8  66840   0.384633  ['Python', 'Programming', 'Python3', 'Software...   \n",
       "9  98111   0.384633  ['Programming', 'Django', 'Python3', 'Python',...   \n",
       "\n",
       "                                              titles  \\\n",
       "0                           Web Hosting using Python   \n",
       "1  how to create a website in seven lines of pyth...   \n",
       "2                      Basic application with Django   \n",
       "3                Web Development in Python: Lesson 1   \n",
       "4  What exactly can you do with Python? Here are ...   \n",
       "5  Flask Tutorial Python — Basics of The Flask Fr...   \n",
       "6                      Your First website with Flask   \n",
       "7      Getting Started With Flask — Python Framework   \n",
       "8  How to Create a Simple Django Web App With Pyt...   \n",
       "9  How to Create a Simple Django Web App With Pyt...   \n",
       "\n",
       "                                                urls  \n",
       "0  https://medium.com/datadriveninvestor/web-host...  \n",
       "1  https://medium.com/@jyothiradityak/how-to-crea...  \n",
       "2  https://medium.com/datadriveninvestor/basic-ap...  \n",
       "3  https://medium.com/python-in-plain-english/web...  \n",
       "4  https://towardsdatascience.com/what-can-you-do...  \n",
       "5  https://medium.com/@p4p3rb0y1/flask-tutorial-p...  \n",
       "6  https://medium.com/@nitis3211/your-first-websi...  \n",
       "7  https://medium.com/@1303karthick/getting-start...  \n",
       "8  https://medium.com/better-programming/how-to-c...  \n",
       "9  https://betterprogramming.pub/how-to-create-a-...  "
      ]
     },
     "execution_count": 178,
     "metadata": {},
     "output_type": "execute_result"
    }
   ],
   "source": [
    "##### Orinal retrieve\n",
    "df_result_original_retrieve"
   ]
  },
  {
   "cell_type": "code",
   "execution_count": 179,
   "metadata": {},
   "outputs": [
    {
     "name": "stdout",
     "output_type": "stream",
     "text": [
      "title: Web Hosting using Python || url https://medium.com/datadriveninvestor/web-hosting-using-python-3dbb00abdcba || tags: ['Flask', 'Python', 'HTML']\n",
      "title: how to create a website in seven lines of python code. || url https://medium.com/@jyothiradityak/how-to-create-a-website-in-seven-lines-of-python-code-90192668dd58 || tags: ['Python Project Ideas', 'Python Website', 'Python Beginner', 'Flask Framework', 'Python Programming']\n",
      "title: Basic application with Django || url https://medium.com/datadriveninvestor/basic-application-with-django-3afab115bb9a || tags: ['Software', 'Python', 'Web Development', 'Django', 'Learning To Code']\n",
      "title: Web Development in Python: Lesson 1 || url https://medium.com/python-in-plain-english/web-development-in-python-lesson-1-d87ef3e439fc || tags: ['Programming', 'Coding', 'Python', 'Django', 'Web Development']\n",
      "title: What exactly can you do with Python? Here are Python's 3 main applications. || url https://towardsdatascience.com/what-can-you-do-with-python-the-3-main-applications-518db9a68a78 || tags: ['Data Science', 'Python', 'Programming', 'Web Development', 'Data Visualization']\n",
      "title: Flask Tutorial Python — Basics of The Flask Framework || url https://medium.com/@p4p3rb0y1/flask-tutorial-python-basics-of-the-flask-framework-8a6c6fc55c0d || tags: ['Python Programming', 'Flask Framework', 'Python3', 'Flask', 'Python']\n",
      "title: Your First website with Flask || url https://medium.com/@nitis3211/your-first-website-with-flask-29242dfc2eff || tags: ['Website', 'Pyth', 'Python Framework', 'Flask']\n",
      "title: Getting Started With Flask — Python Framework || url https://medium.com/@1303karthick/getting-started-with-flask-python-framework-80ed32a40c60 || tags: ['Web Development', 'Flask Framework', 'Getting Started', 'Beginner', 'Python']\n",
      "title: How to Create a Simple Django Web App With Python. || url https://medium.com/better-programming/how-to-create-a-simple-django-web-app-with-python-7ba75b4e34a6 || tags: ['Python', 'Programming', 'Python3', 'Software Development', 'Django']\n",
      "title: How to Create a Simple Django Web App With Python. || url https://betterprogramming.pub/how-to-create-a-simple-django-web-app-with-python-7ba75b4e34a6 || tags: ['Programming', 'Django', 'Python3', 'Python', 'Software Development']\n"
     ]
    }
   ],
   "source": [
    "for idx, row in df_result_original_retrieve.iterrows():\n",
    "    print(f\"title: {row['titles']} || url {row['urls']} || tags: {row['tags']}\")"
   ]
  },
  {
   "cell_type": "code",
   "execution_count": 183,
   "metadata": {},
   "outputs": [],
   "source": [
    "#### query expansion with related topics\n",
    "df_query_expansion_related_topics_result = df_query_expansion_related_topics_result.sort_values(by='distances', ascending=True)"
   ]
  },
  {
   "cell_type": "code",
   "execution_count": 184,
   "metadata": {},
   "outputs": [
    {
     "data": {
      "text/html": [
       "<div>\n",
       "<style scoped>\n",
       "    .dataframe tbody tr th:only-of-type {\n",
       "        vertical-align: middle;\n",
       "    }\n",
       "\n",
       "    .dataframe tbody tr th {\n",
       "        vertical-align: top;\n",
       "    }\n",
       "\n",
       "    .dataframe thead th {\n",
       "        text-align: right;\n",
       "    }\n",
       "</style>\n",
       "<table border=\"1\" class=\"dataframe\">\n",
       "  <thead>\n",
       "    <tr style=\"text-align: right;\">\n",
       "      <th></th>\n",
       "      <th>ids</th>\n",
       "      <th>distances</th>\n",
       "      <th>tags</th>\n",
       "      <th>titles</th>\n",
       "      <th>urls</th>\n",
       "    </tr>\n",
       "  </thead>\n",
       "  <tbody>\n",
       "    <tr>\n",
       "      <th>2</th>\n",
       "      <td>38143</td>\n",
       "      <td>0.169016</td>\n",
       "      <td>['Python Programming', 'Flask Framework', 'Pyt...</td>\n",
       "      <td>Flask Tutorial Python — Basics of The Flask Fr...</td>\n",
       "      <td>https://medium.com/@p4p3rb0y1/flask-tutorial-p...</td>\n",
       "    </tr>\n",
       "    <tr>\n",
       "      <th>3</th>\n",
       "      <td>76575</td>\n",
       "      <td>0.206912</td>\n",
       "      <td>['Software Development', 'Programming', 'Pytho...</td>\n",
       "      <td>What Are The Best &amp; Popular Python Frameworks</td>\n",
       "      <td>https://medium.com/python-in-plain-english/wha...</td>\n",
       "    </tr>\n",
       "    <tr>\n",
       "      <th>0</th>\n",
       "      <td>38143</td>\n",
       "      <td>0.304585</td>\n",
       "      <td>['Python Programming', 'Flask Framework', 'Pyt...</td>\n",
       "      <td>Flask Tutorial Python — Basics of The Flask Fr...</td>\n",
       "      <td>https://medium.com/@p4p3rb0y1/flask-tutorial-p...</td>\n",
       "    </tr>\n",
       "    <tr>\n",
       "      <th>1</th>\n",
       "      <td>64395</td>\n",
       "      <td>0.360137</td>\n",
       "      <td>['Programming', 'Coding', 'Python', 'Django', ...</td>\n",
       "      <td>Web Development in Python: Lesson 1</td>\n",
       "      <td>https://medium.com/python-in-plain-english/web...</td>\n",
       "    </tr>\n",
       "    <tr>\n",
       "      <th>4</th>\n",
       "      <td>64395</td>\n",
       "      <td>0.386455</td>\n",
       "      <td>['Programming', 'Coding', 'Python', 'Django', ...</td>\n",
       "      <td>Web Development in Python: Lesson 1</td>\n",
       "      <td>https://medium.com/python-in-plain-english/web...</td>\n",
       "    </tr>\n",
       "  </tbody>\n",
       "</table>\n",
       "</div>"
      ],
      "text/plain": [
       "     ids  distances                                               tags  \\\n",
       "2  38143   0.169016  ['Python Programming', 'Flask Framework', 'Pyt...   \n",
       "3  76575   0.206912  ['Software Development', 'Programming', 'Pytho...   \n",
       "0  38143   0.304585  ['Python Programming', 'Flask Framework', 'Pyt...   \n",
       "1  64395   0.360137  ['Programming', 'Coding', 'Python', 'Django', ...   \n",
       "4  64395   0.386455  ['Programming', 'Coding', 'Python', 'Django', ...   \n",
       "\n",
       "                                              titles  \\\n",
       "2  Flask Tutorial Python — Basics of The Flask Fr...   \n",
       "3      What Are The Best & Popular Python Frameworks   \n",
       "0  Flask Tutorial Python — Basics of The Flask Fr...   \n",
       "1                Web Development in Python: Lesson 1   \n",
       "4                Web Development in Python: Lesson 1   \n",
       "\n",
       "                                                urls  \n",
       "2  https://medium.com/@p4p3rb0y1/flask-tutorial-p...  \n",
       "3  https://medium.com/python-in-plain-english/wha...  \n",
       "0  https://medium.com/@p4p3rb0y1/flask-tutorial-p...  \n",
       "1  https://medium.com/python-in-plain-english/web...  \n",
       "4  https://medium.com/python-in-plain-english/web...  "
      ]
     },
     "execution_count": 184,
     "metadata": {},
     "output_type": "execute_result"
    }
   ],
   "source": [
    "df_query_expansion_related_topics_result"
   ]
  },
  {
   "cell_type": "code",
   "execution_count": 185,
   "metadata": {},
   "outputs": [
    {
     "name": "stdout",
     "output_type": "stream",
     "text": [
      "title: Flask Tutorial Python — Basics of The Flask Framework || url https://medium.com/@p4p3rb0y1/flask-tutorial-python-basics-of-the-flask-framework-8a6c6fc55c0d || tags: ['Python Programming', 'Flask Framework', 'Python3', 'Flask', 'Python']\n",
      "title: What Are The Best & Popular Python Frameworks || url https://medium.com/python-in-plain-english/what-are-the-best-popular-python-freamworks-4379f4a6e37c || tags: ['Software Development', 'Programming', 'Python', 'Data Science', 'Web Development']\n",
      "title: Flask Tutorial Python — Basics of The Flask Framework || url https://medium.com/@p4p3rb0y1/flask-tutorial-python-basics-of-the-flask-framework-8a6c6fc55c0d || tags: ['Python Programming', 'Flask Framework', 'Python3', 'Flask', 'Python']\n",
      "title: Web Development in Python: Lesson 1 || url https://medium.com/python-in-plain-english/web-development-in-python-lesson-1-d87ef3e439fc || tags: ['Programming', 'Coding', 'Python', 'Django', 'Web Development']\n",
      "title: Web Development in Python: Lesson 1 || url https://medium.com/python-in-plain-english/web-development-in-python-lesson-1-d87ef3e439fc || tags: ['Programming', 'Coding', 'Python', 'Django', 'Web Development']\n"
     ]
    }
   ],
   "source": [
    "for idx, row in df_query_expansion_related_topics_result.iterrows():\n",
    "    print(f\"title: {row['titles']} || url {row['urls']} || tags: {row['tags']}\")"
   ]
  },
  {
   "cell_type": "code",
   "execution_count": 186,
   "metadata": {},
   "outputs": [],
   "source": [
    "### query expansion with related keywords\n",
    "df_query_expansion_related_keywords_result = df_query_expansion_related_keywords_result.sort_values(by='distances', ascending=True)"
   ]
  },
  {
   "cell_type": "code",
   "execution_count": 187,
   "metadata": {},
   "outputs": [
    {
     "data": {
      "text/html": [
       "<div>\n",
       "<style scoped>\n",
       "    .dataframe tbody tr th:only-of-type {\n",
       "        vertical-align: middle;\n",
       "    }\n",
       "\n",
       "    .dataframe tbody tr th {\n",
       "        vertical-align: top;\n",
       "    }\n",
       "\n",
       "    .dataframe thead th {\n",
       "        text-align: right;\n",
       "    }\n",
       "</style>\n",
       "<table border=\"1\" class=\"dataframe\">\n",
       "  <thead>\n",
       "    <tr style=\"text-align: right;\">\n",
       "      <th></th>\n",
       "      <th>ids</th>\n",
       "      <th>distances</th>\n",
       "      <th>tags</th>\n",
       "      <th>titles</th>\n",
       "      <th>urls</th>\n",
       "    </tr>\n",
       "  </thead>\n",
       "  <tbody>\n",
       "    <tr>\n",
       "      <th>2</th>\n",
       "      <td>76575</td>\n",
       "      <td>0.237362</td>\n",
       "      <td>['Software Development', 'Programming', 'Pytho...</td>\n",
       "      <td>What Are The Best &amp; Popular Python Frameworks</td>\n",
       "      <td>https://medium.com/python-in-plain-english/wha...</td>\n",
       "    </tr>\n",
       "    <tr>\n",
       "      <th>4</th>\n",
       "      <td>96567</td>\n",
       "      <td>0.264278</td>\n",
       "      <td>['Portal', 'Web Development', 'Django Framewor...</td>\n",
       "      <td>A Basic Overview of Django, the Python Web Fra...</td>\n",
       "      <td>https://medium.com/@leofalcone/a-basic-overvie...</td>\n",
       "    </tr>\n",
       "    <tr>\n",
       "      <th>0</th>\n",
       "      <td>86007</td>\n",
       "      <td>0.274412</td>\n",
       "      <td>['Flask', 'Python', 'HTML']</td>\n",
       "      <td>Web Hosting using Python</td>\n",
       "      <td>https://medium.com/datadriveninvestor/web-host...</td>\n",
       "    </tr>\n",
       "    <tr>\n",
       "      <th>3</th>\n",
       "      <td>38143</td>\n",
       "      <td>0.278728</td>\n",
       "      <td>['Python Programming', 'Flask Framework', 'Pyt...</td>\n",
       "      <td>Flask Tutorial Python — Basics of The Flask Fr...</td>\n",
       "      <td>https://medium.com/@p4p3rb0y1/flask-tutorial-p...</td>\n",
       "    </tr>\n",
       "    <tr>\n",
       "      <th>1</th>\n",
       "      <td>86007</td>\n",
       "      <td>0.309433</td>\n",
       "      <td>['Flask', 'Python', 'HTML']</td>\n",
       "      <td>Web Hosting using Python</td>\n",
       "      <td>https://medium.com/datadriveninvestor/web-host...</td>\n",
       "    </tr>\n",
       "    <tr>\n",
       "      <th>5</th>\n",
       "      <td>86007</td>\n",
       "      <td>0.310809</td>\n",
       "      <td>['Flask', 'Python', 'HTML']</td>\n",
       "      <td>Web Hosting using Python</td>\n",
       "      <td>https://medium.com/datadriveninvestor/web-host...</td>\n",
       "    </tr>\n",
       "    <tr>\n",
       "      <th>6</th>\n",
       "      <td>33669</td>\n",
       "      <td>0.324690</td>\n",
       "      <td>['Data Science', 'Web Scraping', 'Python', 'An...</td>\n",
       "      <td>Web scraping com Python</td>\n",
       "      <td>https://medium.com/dados/web-scraping-com-pyth...</td>\n",
       "    </tr>\n",
       "    <tr>\n",
       "      <th>7</th>\n",
       "      <td>86007</td>\n",
       "      <td>0.347834</td>\n",
       "      <td>['Flask', 'Python', 'HTML']</td>\n",
       "      <td>Web Hosting using Python</td>\n",
       "      <td>https://medium.com/datadriveninvestor/web-host...</td>\n",
       "    </tr>\n",
       "    <tr>\n",
       "      <th>8</th>\n",
       "      <td>76575</td>\n",
       "      <td>0.367306</td>\n",
       "      <td>['Software Development', 'Programming', 'Pytho...</td>\n",
       "      <td>What Are The Best &amp; Popular Python Frameworks</td>\n",
       "      <td>https://medium.com/python-in-plain-english/wha...</td>\n",
       "    </tr>\n",
       "    <tr>\n",
       "      <th>9</th>\n",
       "      <td>64395</td>\n",
       "      <td>0.372018</td>\n",
       "      <td>['Programming', 'Coding', 'Python', 'Django', ...</td>\n",
       "      <td>Web Development in Python: Lesson 1</td>\n",
       "      <td>https://medium.com/python-in-plain-english/web...</td>\n",
       "    </tr>\n",
       "  </tbody>\n",
       "</table>\n",
       "</div>"
      ],
      "text/plain": [
       "     ids  distances                                               tags  \\\n",
       "2  76575   0.237362  ['Software Development', 'Programming', 'Pytho...   \n",
       "4  96567   0.264278  ['Portal', 'Web Development', 'Django Framewor...   \n",
       "0  86007   0.274412                        ['Flask', 'Python', 'HTML']   \n",
       "3  38143   0.278728  ['Python Programming', 'Flask Framework', 'Pyt...   \n",
       "1  86007   0.309433                        ['Flask', 'Python', 'HTML']   \n",
       "5  86007   0.310809                        ['Flask', 'Python', 'HTML']   \n",
       "6  33669   0.324690  ['Data Science', 'Web Scraping', 'Python', 'An...   \n",
       "7  86007   0.347834                        ['Flask', 'Python', 'HTML']   \n",
       "8  76575   0.367306  ['Software Development', 'Programming', 'Pytho...   \n",
       "9  64395   0.372018  ['Programming', 'Coding', 'Python', 'Django', ...   \n",
       "\n",
       "                                              titles  \\\n",
       "2      What Are The Best & Popular Python Frameworks   \n",
       "4  A Basic Overview of Django, the Python Web Fra...   \n",
       "0                           Web Hosting using Python   \n",
       "3  Flask Tutorial Python — Basics of The Flask Fr...   \n",
       "1                           Web Hosting using Python   \n",
       "5                           Web Hosting using Python   \n",
       "6                            Web scraping com Python   \n",
       "7                           Web Hosting using Python   \n",
       "8      What Are The Best & Popular Python Frameworks   \n",
       "9                Web Development in Python: Lesson 1   \n",
       "\n",
       "                                                urls  \n",
       "2  https://medium.com/python-in-plain-english/wha...  \n",
       "4  https://medium.com/@leofalcone/a-basic-overvie...  \n",
       "0  https://medium.com/datadriveninvestor/web-host...  \n",
       "3  https://medium.com/@p4p3rb0y1/flask-tutorial-p...  \n",
       "1  https://medium.com/datadriveninvestor/web-host...  \n",
       "5  https://medium.com/datadriveninvestor/web-host...  \n",
       "6  https://medium.com/dados/web-scraping-com-pyth...  \n",
       "7  https://medium.com/datadriveninvestor/web-host...  \n",
       "8  https://medium.com/python-in-plain-english/wha...  \n",
       "9  https://medium.com/python-in-plain-english/web...  "
      ]
     },
     "execution_count": 187,
     "metadata": {},
     "output_type": "execute_result"
    }
   ],
   "source": [
    "df_query_expansion_related_keywords_result"
   ]
  },
  {
   "cell_type": "code",
   "execution_count": 188,
   "metadata": {},
   "outputs": [
    {
     "name": "stdout",
     "output_type": "stream",
     "text": [
      "title: What Are The Best & Popular Python Frameworks || url https://medium.com/python-in-plain-english/what-are-the-best-popular-python-freamworks-4379f4a6e37c || tags: ['Software Development', 'Programming', 'Python', 'Data Science', 'Web Development']\n",
      "title: A Basic Overview of Django, the Python Web Framework || url https://medium.com/@leofalcone/a-basic-overview-of-django-the-python-web-framework-14f5d1623cc0 || tags: ['Portal', 'Web Development', 'Django Framework', 'Django', 'Python']\n",
      "title: Web Hosting using Python || url https://medium.com/datadriveninvestor/web-hosting-using-python-3dbb00abdcba || tags: ['Flask', 'Python', 'HTML']\n",
      "title: Flask Tutorial Python — Basics of The Flask Framework || url https://medium.com/@p4p3rb0y1/flask-tutorial-python-basics-of-the-flask-framework-8a6c6fc55c0d || tags: ['Python Programming', 'Flask Framework', 'Python3', 'Flask', 'Python']\n",
      "title: Web Hosting using Python || url https://medium.com/datadriveninvestor/web-hosting-using-python-3dbb00abdcba || tags: ['Flask', 'Python', 'HTML']\n",
      "title: Web Hosting using Python || url https://medium.com/datadriveninvestor/web-hosting-using-python-3dbb00abdcba || tags: ['Flask', 'Python', 'HTML']\n",
      "title: Web scraping com Python || url https://medium.com/dados/web-scraping-com-python-45531a6138c9 || tags: ['Data Science', 'Web Scraping', 'Python', 'Analysis', 'Data']\n",
      "title: Web Hosting using Python || url https://medium.com/datadriveninvestor/web-hosting-using-python-3dbb00abdcba || tags: ['Flask', 'Python', 'HTML']\n",
      "title: What Are The Best & Popular Python Frameworks || url https://medium.com/python-in-plain-english/what-are-the-best-popular-python-freamworks-4379f4a6e37c || tags: ['Software Development', 'Programming', 'Python', 'Data Science', 'Web Development']\n",
      "title: Web Development in Python: Lesson 1 || url https://medium.com/python-in-plain-english/web-development-in-python-lesson-1-d87ef3e439fc || tags: ['Programming', 'Coding', 'Python', 'Django', 'Web Development']\n"
     ]
    }
   ],
   "source": [
    "for idx, row in df_query_expansion_related_keywords_result.iterrows():\n",
    "    print(f\"title: {row['titles']} || url {row['urls']} || tags: {row['tags']}\")"
   ]
  },
  {
   "cell_type": "code",
   "execution_count": 190,
   "metadata": {},
   "outputs": [],
   "source": [
    "### results with re-ranking\n",
    "df_retrieved_re_ranking = df_retrieved_data_merged.sort_values(by='score', ascending=False)"
   ]
  },
  {
   "cell_type": "code",
   "execution_count": 193,
   "metadata": {},
   "outputs": [],
   "source": [
    "df_retrieved_re_ranking = df_retrieved_re_ranking.drop_duplicates(\"id\")"
   ]
  },
  {
   "cell_type": "code",
   "execution_count": 195,
   "metadata": {},
   "outputs": [
    {
     "data": {
      "text/html": [
       "<div>\n",
       "<style scoped>\n",
       "    .dataframe tbody tr th:only-of-type {\n",
       "        vertical-align: middle;\n",
       "    }\n",
       "\n",
       "    .dataframe tbody tr th {\n",
       "        vertical-align: top;\n",
       "    }\n",
       "\n",
       "    .dataframe thead th {\n",
       "        text-align: right;\n",
       "    }\n",
       "</style>\n",
       "<table border=\"1\" class=\"dataframe\">\n",
       "  <thead>\n",
       "    <tr style=\"text-align: right;\">\n",
       "      <th></th>\n",
       "      <th>title</th>\n",
       "      <th>url</th>\n",
       "      <th>tags</th>\n",
       "      <th>id</th>\n",
       "      <th>score</th>\n",
       "    </tr>\n",
       "  </thead>\n",
       "  <tbody>\n",
       "    <tr>\n",
       "      <th>6</th>\n",
       "      <td>how to create a website in seven lines of pyth...</td>\n",
       "      <td>https://medium.com/@jyothiradityak/how-to-crea...</td>\n",
       "      <td>['Python Project Ideas', 'Python Website', 'Py...</td>\n",
       "      <td>65351</td>\n",
       "      <td>7.766557</td>\n",
       "    </tr>\n",
       "    <tr>\n",
       "      <th>7</th>\n",
       "      <td>How to Create a Simple Django Web App With Pyt...</td>\n",
       "      <td>https://medium.com/better-programming/how-to-c...</td>\n",
       "      <td>['Python', 'Programming', 'Python3', 'Software...</td>\n",
       "      <td>66840</td>\n",
       "      <td>6.463696</td>\n",
       "    </tr>\n",
       "    <tr>\n",
       "      <th>9</th>\n",
       "      <td>How to Create a Simple Django Web App With Pyt...</td>\n",
       "      <td>https://betterprogramming.pub/how-to-create-a-...</td>\n",
       "      <td>['Programming', 'Django', 'Python3', 'Python',...</td>\n",
       "      <td>98111</td>\n",
       "      <td>6.463696</td>\n",
       "    </tr>\n",
       "    <tr>\n",
       "      <th>5</th>\n",
       "      <td>Web Development in Python: Lesson 1</td>\n",
       "      <td>https://medium.com/python-in-plain-english/web...</td>\n",
       "      <td>['Programming', 'Coding', 'Python', 'Django', ...</td>\n",
       "      <td>64395</td>\n",
       "      <td>6.223163</td>\n",
       "    </tr>\n",
       "    <tr>\n",
       "      <th>0</th>\n",
       "      <td>Basic application with Django</td>\n",
       "      <td>https://medium.com/datadriveninvestor/basic-ap...</td>\n",
       "      <td>['Software', 'Python', 'Web Development', 'Dja...</td>\n",
       "      <td>8240</td>\n",
       "      <td>5.973814</td>\n",
       "    </tr>\n",
       "    <tr>\n",
       "      <th>11</th>\n",
       "      <td>Web Hosting using Python</td>\n",
       "      <td>https://medium.com/datadriveninvestor/web-host...</td>\n",
       "      <td>['Flask', 'Python', 'HTML']</td>\n",
       "      <td>86007</td>\n",
       "      <td>5.588793</td>\n",
       "    </tr>\n",
       "    <tr>\n",
       "      <th>4</th>\n",
       "      <td>What exactly can you do with Python? Here are ...</td>\n",
       "      <td>https://towardsdatascience.com/what-can-you-do...</td>\n",
       "      <td>['Data Science', 'Python', 'Programming', 'Web...</td>\n",
       "      <td>62018</td>\n",
       "      <td>5.110482</td>\n",
       "    </tr>\n",
       "    <tr>\n",
       "      <th>2</th>\n",
       "      <td>Flask Tutorial Python — Basics of The Flask Fr...</td>\n",
       "      <td>https://medium.com/@p4p3rb0y1/flask-tutorial-p...</td>\n",
       "      <td>['Python Programming', 'Flask Framework', 'Pyt...</td>\n",
       "      <td>38143</td>\n",
       "      <td>3.802685</td>\n",
       "    </tr>\n",
       "    <tr>\n",
       "      <th>3</th>\n",
       "      <td>Your First website with Flask</td>\n",
       "      <td>https://medium.com/@nitis3211/your-first-websi...</td>\n",
       "      <td>['Website', 'Pyth', 'Python Framework', 'Flask']</td>\n",
       "      <td>53842</td>\n",
       "      <td>1.786698</td>\n",
       "    </tr>\n",
       "    <tr>\n",
       "      <th>1</th>\n",
       "      <td>Getting Started With Flask — Python Framework</td>\n",
       "      <td>https://medium.com/@1303karthick/getting-start...</td>\n",
       "      <td>['Web Development', 'Flask Framework', 'Gettin...</td>\n",
       "      <td>21827</td>\n",
       "      <td>1.133836</td>\n",
       "    </tr>\n",
       "  </tbody>\n",
       "</table>\n",
       "</div>"
      ],
      "text/plain": [
       "                                                title  \\\n",
       "6   how to create a website in seven lines of pyth...   \n",
       "7   How to Create a Simple Django Web App With Pyt...   \n",
       "9   How to Create a Simple Django Web App With Pyt...   \n",
       "5                 Web Development in Python: Lesson 1   \n",
       "0                       Basic application with Django   \n",
       "11                           Web Hosting using Python   \n",
       "4   What exactly can you do with Python? Here are ...   \n",
       "2   Flask Tutorial Python — Basics of The Flask Fr...   \n",
       "3                       Your First website with Flask   \n",
       "1       Getting Started With Flask — Python Framework   \n",
       "\n",
       "                                                  url  \\\n",
       "6   https://medium.com/@jyothiradityak/how-to-crea...   \n",
       "7   https://medium.com/better-programming/how-to-c...   \n",
       "9   https://betterprogramming.pub/how-to-create-a-...   \n",
       "5   https://medium.com/python-in-plain-english/web...   \n",
       "0   https://medium.com/datadriveninvestor/basic-ap...   \n",
       "11  https://medium.com/datadriveninvestor/web-host...   \n",
       "4   https://towardsdatascience.com/what-can-you-do...   \n",
       "2   https://medium.com/@p4p3rb0y1/flask-tutorial-p...   \n",
       "3   https://medium.com/@nitis3211/your-first-websi...   \n",
       "1   https://medium.com/@1303karthick/getting-start...   \n",
       "\n",
       "                                                 tags     id     score  \n",
       "6   ['Python Project Ideas', 'Python Website', 'Py...  65351  7.766557  \n",
       "7   ['Python', 'Programming', 'Python3', 'Software...  66840  6.463696  \n",
       "9   ['Programming', 'Django', 'Python3', 'Python',...  98111  6.463696  \n",
       "5   ['Programming', 'Coding', 'Python', 'Django', ...  64395  6.223163  \n",
       "0   ['Software', 'Python', 'Web Development', 'Dja...   8240  5.973814  \n",
       "11                        ['Flask', 'Python', 'HTML']  86007  5.588793  \n",
       "4   ['Data Science', 'Python', 'Programming', 'Web...  62018  5.110482  \n",
       "2   ['Python Programming', 'Flask Framework', 'Pyt...  38143  3.802685  \n",
       "3    ['Website', 'Pyth', 'Python Framework', 'Flask']  53842  1.786698  \n",
       "1   ['Web Development', 'Flask Framework', 'Gettin...  21827  1.133836  "
      ]
     },
     "execution_count": 195,
     "metadata": {},
     "output_type": "execute_result"
    }
   ],
   "source": [
    "df_retrieved_re_ranking"
   ]
  },
  {
   "cell_type": "code",
   "execution_count": 196,
   "metadata": {},
   "outputs": [
    {
     "name": "stdout",
     "output_type": "stream",
     "text": [
      "title: how to create a website in seven lines of python code. || url https://medium.com/@jyothiradityak/how-to-create-a-website-in-seven-lines-of-python-code-90192668dd58 || tags: ['Python Project Ideas', 'Python Website', 'Python Beginner', 'Flask Framework', 'Python Programming']\n",
      "title: How to Create a Simple Django Web App With Python. || url https://medium.com/better-programming/how-to-create-a-simple-django-web-app-with-python-7ba75b4e34a6 || tags: ['Python', 'Programming', 'Python3', 'Software Development', 'Django']\n",
      "title: How to Create a Simple Django Web App With Python. || url https://betterprogramming.pub/how-to-create-a-simple-django-web-app-with-python-7ba75b4e34a6 || tags: ['Programming', 'Django', 'Python3', 'Python', 'Software Development']\n",
      "title: Web Development in Python: Lesson 1 || url https://medium.com/python-in-plain-english/web-development-in-python-lesson-1-d87ef3e439fc || tags: ['Programming', 'Coding', 'Python', 'Django', 'Web Development']\n",
      "title: Basic application with Django || url https://medium.com/datadriveninvestor/basic-application-with-django-3afab115bb9a || tags: ['Software', 'Python', 'Web Development', 'Django', 'Learning To Code']\n",
      "title: Web Hosting using Python || url https://medium.com/datadriveninvestor/web-hosting-using-python-3dbb00abdcba || tags: ['Flask', 'Python', 'HTML']\n",
      "title: What exactly can you do with Python? Here are Python's 3 main applications. || url https://towardsdatascience.com/what-can-you-do-with-python-the-3-main-applications-518db9a68a78 || tags: ['Data Science', 'Python', 'Programming', 'Web Development', 'Data Visualization']\n",
      "title: Flask Tutorial Python — Basics of The Flask Framework || url https://medium.com/@p4p3rb0y1/flask-tutorial-python-basics-of-the-flask-framework-8a6c6fc55c0d || tags: ['Python Programming', 'Flask Framework', 'Python3', 'Flask', 'Python']\n",
      "title: Your First website with Flask || url https://medium.com/@nitis3211/your-first-website-with-flask-29242dfc2eff || tags: ['Website', 'Pyth', 'Python Framework', 'Flask']\n",
      "title: Getting Started With Flask — Python Framework || url https://medium.com/@1303karthick/getting-started-with-flask-python-framework-80ed32a40c60 || tags: ['Web Development', 'Flask Framework', 'Getting Started', 'Beginner', 'Python']\n"
     ]
    }
   ],
   "source": [
    "for idx, row in df_retrieved_re_ranking.iterrows():\n",
    "    print(f\"title: {row['title']} || url {row['url']} || tags: {row['tags']}\")"
   ]
  }
 ],
 "metadata": {
  "kernelspec": {
   "display_name": "recommendation-system",
   "language": "python",
   "name": "python3"
  },
  "language_info": {
   "codemirror_mode": {
    "name": "ipython",
    "version": 3
   },
   "file_extension": ".py",
   "mimetype": "text/x-python",
   "name": "python",
   "nbconvert_exporter": "python",
   "pygments_lexer": "ipython3",
   "version": "3.10.12"
  }
 },
 "nbformat": 4,
 "nbformat_minor": 2
}
